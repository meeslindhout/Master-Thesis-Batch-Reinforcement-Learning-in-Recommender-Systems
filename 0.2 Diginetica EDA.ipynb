{
 "cells": [
  {
   "cell_type": "code",
   "execution_count": 17,
   "metadata": {},
   "outputs": [],
   "source": [
    "import pandas as pd\n",
    "import seaborn as sns\n",
    "import matplotlib.pyplot as plt"
   ]
  },
  {
   "cell_type": "markdown",
   "metadata": {},
   "source": [
    "# Exploratory Data Analysis"
   ]
  },
  {
   "cell_type": "code",
   "execution_count": 18,
   "metadata": {},
   "outputs": [],
   "source": [
    "data = pd.read_pickle('data\\processed datasets\\diginetica\\interactions_full.pkl')"
   ]
  },
  {
   "cell_type": "code",
   "execution_count": 19,
   "metadata": {},
   "outputs": [
    {
     "data": {
      "text/html": [
       "<div>\n",
       "<style scoped>\n",
       "    .dataframe tbody tr th:only-of-type {\n",
       "        vertical-align: middle;\n",
       "    }\n",
       "\n",
       "    .dataframe tbody tr th {\n",
       "        vertical-align: top;\n",
       "    }\n",
       "\n",
       "    .dataframe thead th {\n",
       "        text-align: right;\n",
       "    }\n",
       "</style>\n",
       "<table border=\"1\" class=\"dataframe\">\n",
       "  <thead>\n",
       "    <tr style=\"text-align: right;\">\n",
       "      <th></th>\n",
       "      <th>Type</th>\n",
       "      <th>SessionId</th>\n",
       "      <th>ItemId</th>\n",
       "      <th>Time</th>\n",
       "      <th>Date</th>\n",
       "      <th>Datestamp</th>\n",
       "      <th>TimeO</th>\n",
       "      <th>ItemSupport</th>\n",
       "    </tr>\n",
       "  </thead>\n",
       "  <tbody>\n",
       "    <tr>\n",
       "      <th>3</th>\n",
       "      <td>view</td>\n",
       "      <td>1</td>\n",
       "      <td>9654</td>\n",
       "      <td>1.462752e+09</td>\n",
       "      <td>2016-05-09</td>\n",
       "      <td>1.462752e+09</td>\n",
       "      <td>2016-05-09 00:01:15.848000+00:00</td>\n",
       "      <td>74</td>\n",
       "    </tr>\n",
       "    <tr>\n",
       "      <th>5</th>\n",
       "      <td>view</td>\n",
       "      <td>1</td>\n",
       "      <td>33043</td>\n",
       "      <td>1.462752e+09</td>\n",
       "      <td>2016-05-09</td>\n",
       "      <td>1.462752e+09</td>\n",
       "      <td>2016-05-09 00:02:53.912000+00:00</td>\n",
       "      <td>41</td>\n",
       "    </tr>\n",
       "    <tr>\n",
       "      <th>2</th>\n",
       "      <td>view</td>\n",
       "      <td>1</td>\n",
       "      <td>32118</td>\n",
       "      <td>1.462752e+09</td>\n",
       "      <td>2016-05-09</td>\n",
       "      <td>1.462752e+09</td>\n",
       "      <td>2016-05-09 00:04:03.569000+00:00</td>\n",
       "      <td>19</td>\n",
       "    </tr>\n",
       "    <tr>\n",
       "      <th>6</th>\n",
       "      <td>view</td>\n",
       "      <td>1</td>\n",
       "      <td>12352</td>\n",
       "      <td>1.462752e+09</td>\n",
       "      <td>2016-05-09</td>\n",
       "      <td>1.462752e+09</td>\n",
       "      <td>2016-05-09 00:05:29.870000+00:00</td>\n",
       "      <td>79</td>\n",
       "    </tr>\n",
       "    <tr>\n",
       "      <th>7</th>\n",
       "      <td>view</td>\n",
       "      <td>1</td>\n",
       "      <td>35077</td>\n",
       "      <td>1.462752e+09</td>\n",
       "      <td>2016-05-09</td>\n",
       "      <td>1.462752e+09</td>\n",
       "      <td>2016-05-09 00:06:30.072000+00:00</td>\n",
       "      <td>47</td>\n",
       "    </tr>\n",
       "    <tr>\n",
       "      <th>...</th>\n",
       "      <td>...</td>\n",
       "      <td>...</td>\n",
       "      <td>...</td>\n",
       "      <td>...</td>\n",
       "      <td>...</td>\n",
       "      <td>...</td>\n",
       "      <td>...</td>\n",
       "      <td>...</td>\n",
       "    </tr>\n",
       "    <tr>\n",
       "      <th>1235353</th>\n",
       "      <td>view</td>\n",
       "      <td>600672</td>\n",
       "      <td>8141</td>\n",
       "      <td>1.463098e+09</td>\n",
       "      <td>2016-05-13</td>\n",
       "      <td>1.463098e+09</td>\n",
       "      <td>2016-05-13 00:00:25.615000+00:00</td>\n",
       "      <td>38</td>\n",
       "    </tr>\n",
       "    <tr>\n",
       "      <th>1235354</th>\n",
       "      <td>view</td>\n",
       "      <td>600672</td>\n",
       "      <td>22587</td>\n",
       "      <td>1.463098e+09</td>\n",
       "      <td>2016-05-13</td>\n",
       "      <td>1.463098e+09</td>\n",
       "      <td>2016-05-13 00:00:27.568000+00:00</td>\n",
       "      <td>92</td>\n",
       "    </tr>\n",
       "    <tr>\n",
       "      <th>1235357</th>\n",
       "      <td>view</td>\n",
       "      <td>600674</td>\n",
       "      <td>106930</td>\n",
       "      <td>1.464307e+09</td>\n",
       "      <td>2016-05-27</td>\n",
       "      <td>1.464307e+09</td>\n",
       "      <td>2016-05-27 00:00:53.456000+00:00</td>\n",
       "      <td>40</td>\n",
       "    </tr>\n",
       "    <tr>\n",
       "      <th>1235355</th>\n",
       "      <td>view</td>\n",
       "      <td>600674</td>\n",
       "      <td>1152</td>\n",
       "      <td>1.464307e+09</td>\n",
       "      <td>2016-05-27</td>\n",
       "      <td>1.464307e+09</td>\n",
       "      <td>2016-05-27 00:01:24.848000+00:00</td>\n",
       "      <td>35</td>\n",
       "    </tr>\n",
       "    <tr>\n",
       "      <th>1235356</th>\n",
       "      <td>view</td>\n",
       "      <td>600674</td>\n",
       "      <td>124642</td>\n",
       "      <td>1.464307e+09</td>\n",
       "      <td>2016-05-27</td>\n",
       "      <td>1.464307e+09</td>\n",
       "      <td>2016-05-27 00:02:15.066000+00:00</td>\n",
       "      <td>16</td>\n",
       "    </tr>\n",
       "  </tbody>\n",
       "</table>\n",
       "<p>216241 rows × 8 columns</p>\n",
       "</div>"
      ],
      "text/plain": [
       "         Type  SessionId  ItemId          Time       Date     Datestamp  \\\n",
       "3        view          1    9654  1.462752e+09 2016-05-09  1.462752e+09   \n",
       "5        view          1   33043  1.462752e+09 2016-05-09  1.462752e+09   \n",
       "2        view          1   32118  1.462752e+09 2016-05-09  1.462752e+09   \n",
       "6        view          1   12352  1.462752e+09 2016-05-09  1.462752e+09   \n",
       "7        view          1   35077  1.462752e+09 2016-05-09  1.462752e+09   \n",
       "...       ...        ...     ...           ...        ...           ...   \n",
       "1235353  view     600672    8141  1.463098e+09 2016-05-13  1.463098e+09   \n",
       "1235354  view     600672   22587  1.463098e+09 2016-05-13  1.463098e+09   \n",
       "1235357  view     600674  106930  1.464307e+09 2016-05-27  1.464307e+09   \n",
       "1235355  view     600674    1152  1.464307e+09 2016-05-27  1.464307e+09   \n",
       "1235356  view     600674  124642  1.464307e+09 2016-05-27  1.464307e+09   \n",
       "\n",
       "                                   TimeO  ItemSupport  \n",
       "3       2016-05-09 00:01:15.848000+00:00           74  \n",
       "5       2016-05-09 00:02:53.912000+00:00           41  \n",
       "2       2016-05-09 00:04:03.569000+00:00           19  \n",
       "6       2016-05-09 00:05:29.870000+00:00           79  \n",
       "7       2016-05-09 00:06:30.072000+00:00           47  \n",
       "...                                  ...          ...  \n",
       "1235353 2016-05-13 00:00:25.615000+00:00           38  \n",
       "1235354 2016-05-13 00:00:27.568000+00:00           92  \n",
       "1235357 2016-05-27 00:00:53.456000+00:00           40  \n",
       "1235355 2016-05-27 00:01:24.848000+00:00           35  \n",
       "1235356 2016-05-27 00:02:15.066000+00:00           16  \n",
       "\n",
       "[216241 rows x 8 columns]"
      ]
     },
     "execution_count": 19,
     "metadata": {},
     "output_type": "execute_result"
    }
   ],
   "source": [
    "data"
   ]
  },
  {
   "cell_type": "code",
   "execution_count": 20,
   "metadata": {},
   "outputs": [
    {
     "data": {
      "image/png": "[encoded data removed]",
      "text/plain": [
       "<Figure size 1500x300 with 1 Axes>"
      ]
     },
     "metadata": {},
     "output_type": "display_data"
    }
   ],
   "source": [
    "# how many events are there per day?\n",
    "events_per_day = data.groupby(data.TimeO.dt.date).size()\n",
    "\n",
    "sns.scatterplot(data=events_per_day)\n",
    "# change size of plot\n",
    "plt.gcf().set_size_inches(15, 3)"
   ]
  },
  {
   "cell_type": "markdown",
   "metadata": {},
   "source": [
    "As can be seen in the plot above, most interactions occur in may and june 2016. This large difference in number of interactions per day won't be a problem for the model, as the model will be trained on the entire dataset. However, it is important to keep in mind that the model will be trained on data from a specific period, which might not be representative for the entire dataset."
   ]
  },
  {
   "cell_type": "markdown",
   "metadata": {},
   "source": [
    "How many cold start sessions are there in the dataset?  \n",
    "Lets create a histogram with the frequency of the length of the sessions."
   ]
  },
  {
   "cell_type": "code",
   "execution_count": 21,
   "metadata": {},
   "outputs": [
    {
     "data": {
      "text/plain": [
       "Text(5.019520963089914, 12000, 'Mean = 4.52')"
      ]
     },
     "execution_count": 21,
     "metadata": {},
     "output_type": "execute_result"
    },
    {
     "data": {
      "image/png": "[encoded data removed]",
      "text/plain": [
       "<Figure size 640x480 with 1 Axes>"
      ]
     },
     "metadata": {},
     "output_type": "display_data"
    }
   ],
   "source": [
    "data_per_session = data.groupby('SessionId').size().reset_index(name='number of intereactions')\n",
    "\n",
    "sns.histplot(data_per_session['number of intereactions'], binwidth=1)\n",
    "plt.ylabel('Counted number of sessions')\n",
    "\n",
    "# add a line for the mean\n",
    "plt.axvline(data_per_session['number of intereactions'].mean(), color='red', linestyle='dashed', linewidth=1)\n",
    "# print the mean\n",
    "plt.text(data_per_session['number of intereactions'].mean() + 0.5, 12000, 'Mean = {:.2f}'.format(data_per_session['number of intereactions'].mean()))"
   ]
  },
  {
   "cell_type": "markdown",
   "metadata": {},
   "source": [
    "On average, 4.52 interactions are made per session. This is a relatively low number of interactions per session and indicates that the dataset is sparse and that the dataset contains many cold user start sessions.  \n",
    "\n",
    "How are the interactions distributed over the items? Does one item dominate the dataset? or are the interactions spread out over the items?"
   ]
  },
  {
   "cell_type": "code",
   "execution_count": 22,
   "metadata": {},
   "outputs": [
    {
     "data": {
      "text/plain": [
       "'top 10 most popular items:'"
      ]
     },
     "metadata": {},
     "output_type": "display_data"
    },
    {
     "data": {
      "text/html": [
       "<div>\n",
       "<style scoped>\n",
       "    .dataframe tbody tr th:only-of-type {\n",
       "        vertical-align: middle;\n",
       "    }\n",
       "\n",
       "    .dataframe tbody tr th {\n",
       "        vertical-align: top;\n",
       "    }\n",
       "\n",
       "    .dataframe thead th {\n",
       "        text-align: right;\n",
       "    }\n",
       "</style>\n",
       "<table border=\"1\" class=\"dataframe\">\n",
       "  <thead>\n",
       "    <tr style=\"text-align: right;\">\n",
       "      <th></th>\n",
       "      <th>ItemId</th>\n",
       "      <th>number of intereactions</th>\n",
       "    </tr>\n",
       "  </thead>\n",
       "  <tbody>\n",
       "    <tr>\n",
       "      <th>6869</th>\n",
       "      <td>42271</td>\n",
       "      <td>308</td>\n",
       "    </tr>\n",
       "    <tr>\n",
       "      <th>13548</th>\n",
       "      <td>375888</td>\n",
       "      <td>302</td>\n",
       "    </tr>\n",
       "    <tr>\n",
       "      <th>14064</th>\n",
       "      <td>379023</td>\n",
       "      <td>279</td>\n",
       "    </tr>\n",
       "    <tr>\n",
       "      <th>6513</th>\n",
       "      <td>36956</td>\n",
       "      <td>266</td>\n",
       "    </tr>\n",
       "    <tr>\n",
       "      <th>6240</th>\n",
       "      <td>36031</td>\n",
       "      <td>263</td>\n",
       "    </tr>\n",
       "    <tr>\n",
       "      <th>12094</th>\n",
       "      <td>164627</td>\n",
       "      <td>262</td>\n",
       "    </tr>\n",
       "    <tr>\n",
       "      <th>11969</th>\n",
       "      <td>161039</td>\n",
       "      <td>260</td>\n",
       "    </tr>\n",
       "    <tr>\n",
       "      <th>8047</th>\n",
       "      <td>58581</td>\n",
       "      <td>254</td>\n",
       "    </tr>\n",
       "    <tr>\n",
       "      <th>12509</th>\n",
       "      <td>176018</td>\n",
       "      <td>252</td>\n",
       "    </tr>\n",
       "    <tr>\n",
       "      <th>4434</th>\n",
       "      <td>22894</td>\n",
       "      <td>251</td>\n",
       "    </tr>\n",
       "  </tbody>\n",
       "</table>\n",
       "</div>"
      ],
      "text/plain": [
       "       ItemId  number of intereactions\n",
       "6869    42271                      308\n",
       "13548  375888                      302\n",
       "14064  379023                      279\n",
       "6513    36956                      266\n",
       "6240    36031                      263\n",
       "12094  164627                      262\n",
       "11969  161039                      260\n",
       "8047    58581                      254\n",
       "12509  176018                      252\n",
       "4434    22894                      251"
      ]
     },
     "metadata": {},
     "output_type": "display_data"
    },
    {
     "data": {
      "image/png": "[encoded data removed]",
      "text/plain": [
       "<Figure size 640x480 with 1 Axes>"
      ]
     },
     "metadata": {},
     "output_type": "display_data"
    }
   ],
   "source": [
    "data_per_item = data.groupby('ItemId').size().reset_index(name='number of intereactions').sort_values('number of intereactions', ascending=False)\n",
    "sns.histplot(data_per_item['number of intereactions'], binwidth=1)\n",
    "\n",
    "# add a line for the mean\n",
    "plt.axvline(data_per_item['number of intereactions'].mean(), color='red', linestyle='dashed', linewidth=1)\n",
    "\n",
    "display('top 10 most popular items:')\n",
    "display(data_per_item.head(10))"
   ]
  },
  {
   "cell_type": "markdown",
   "metadata": {},
   "source": [
    "In the above histogram and top 10 table, we can see that some items are very popular and have been interacted with many times, while most items have been interacted with only a few times. This is a typical characteristic of e-commerce datasets. And the cold item start is visible in the histogram.\n",
    "\n",
    "Do items get to be interacted with more as time goes on? And how are the interactions distributed over time?"
   ]
  },
  {
   "cell_type": "code",
   "execution_count": 23,
   "metadata": {},
   "outputs": [
    {
     "data": {
      "text/html": [
       "<div>\n",
       "<style scoped>\n",
       "    .dataframe tbody tr th:only-of-type {\n",
       "        vertical-align: middle;\n",
       "    }\n",
       "\n",
       "    .dataframe tbody tr th {\n",
       "        vertical-align: top;\n",
       "    }\n",
       "\n",
       "    .dataframe thead tr th {\n",
       "        text-align: left;\n",
       "    }\n",
       "</style>\n",
       "<table border=\"1\" class=\"dataframe\">\n",
       "  <thead>\n",
       "    <tr>\n",
       "      <th></th>\n",
       "      <th>ItemId</th>\n",
       "      <th colspan=\"3\" halign=\"left\">TimeO</th>\n",
       "      <th>time between first and last interaction</th>\n",
       "    </tr>\n",
       "    <tr>\n",
       "      <th></th>\n",
       "      <th></th>\n",
       "      <th>min</th>\n",
       "      <th>max</th>\n",
       "      <th>count</th>\n",
       "      <th></th>\n",
       "    </tr>\n",
       "  </thead>\n",
       "  <tbody>\n",
       "    <tr>\n",
       "      <th>0</th>\n",
       "      <td>2</td>\n",
       "      <td>2016-05-08 00:05:25.902000+00:00</td>\n",
       "      <td>2016-05-31 00:08:58.230000+00:00</td>\n",
       "      <td>14</td>\n",
       "      <td>23 days 00:03:32.328000</td>\n",
       "    </tr>\n",
       "    <tr>\n",
       "      <th>1</th>\n",
       "      <td>3</td>\n",
       "      <td>2016-05-07 00:18:53.958000+00:00</td>\n",
       "      <td>2016-05-16 00:16:38.776000+00:00</td>\n",
       "      <td>9</td>\n",
       "      <td>8 days 23:57:44.818000</td>\n",
       "    </tr>\n",
       "    <tr>\n",
       "      <th>2</th>\n",
       "      <td>6</td>\n",
       "      <td>2016-05-15 00:12:26.256000+00:00</td>\n",
       "      <td>2016-06-01 00:00:09.009000+00:00</td>\n",
       "      <td>6</td>\n",
       "      <td>16 days 23:47:42.753000</td>\n",
       "    </tr>\n",
       "    <tr>\n",
       "      <th>3</th>\n",
       "      <td>7</td>\n",
       "      <td>2016-05-11 00:04:09.608000+00:00</td>\n",
       "      <td>2016-06-01 00:03:15.360000+00:00</td>\n",
       "      <td>20</td>\n",
       "      <td>20 days 23:59:05.752000</td>\n",
       "    </tr>\n",
       "    <tr>\n",
       "      <th>4</th>\n",
       "      <td>9</td>\n",
       "      <td>2016-05-07 00:04:50.490000+00:00</td>\n",
       "      <td>2016-05-28 00:15:55.803000+00:00</td>\n",
       "      <td>13</td>\n",
       "      <td>21 days 00:11:05.313000</td>\n",
       "    </tr>\n",
       "    <tr>\n",
       "      <th>...</th>\n",
       "      <td>...</td>\n",
       "      <td>...</td>\n",
       "      <td>...</td>\n",
       "      <td>...</td>\n",
       "      <td>...</td>\n",
       "    </tr>\n",
       "    <tr>\n",
       "      <th>15115</th>\n",
       "      <td>506446</td>\n",
       "      <td>2016-05-30 00:07:54.082000+00:00</td>\n",
       "      <td>2016-05-30 00:18:03.248000+00:00</td>\n",
       "      <td>7</td>\n",
       "      <td>0 days 00:10:09.166000</td>\n",
       "    </tr>\n",
       "    <tr>\n",
       "      <th>15116</th>\n",
       "      <td>512539</td>\n",
       "      <td>2016-05-21 00:08:08.736000+00:00</td>\n",
       "      <td>2016-05-31 00:02:30.799000+00:00</td>\n",
       "      <td>8</td>\n",
       "      <td>9 days 23:54:22.063000</td>\n",
       "    </tr>\n",
       "    <tr>\n",
       "      <th>15117</th>\n",
       "      <td>539560</td>\n",
       "      <td>2016-05-23 00:11:31.996000+00:00</td>\n",
       "      <td>2016-05-28 00:03:32.418000+00:00</td>\n",
       "      <td>6</td>\n",
       "      <td>4 days 23:52:00.422000</td>\n",
       "    </tr>\n",
       "    <tr>\n",
       "      <th>15118</th>\n",
       "      <td>568637</td>\n",
       "      <td>2016-05-12 00:04:14.624000+00:00</td>\n",
       "      <td>2016-06-01 00:14:14.369000+00:00</td>\n",
       "      <td>16</td>\n",
       "      <td>20 days 00:09:59.745000</td>\n",
       "    </tr>\n",
       "    <tr>\n",
       "      <th>15119</th>\n",
       "      <td>707327</td>\n",
       "      <td>2016-05-24 00:03:44.003000+00:00</td>\n",
       "      <td>2016-05-30 00:02:29.435000+00:00</td>\n",
       "      <td>5</td>\n",
       "      <td>5 days 23:58:45.432000</td>\n",
       "    </tr>\n",
       "  </tbody>\n",
       "</table>\n",
       "<p>15120 rows × 5 columns</p>\n",
       "</div>"
      ],
      "text/plain": [
       "       ItemId                            TimeO  \\\n",
       "                                           min   \n",
       "0           2 2016-05-08 00:05:25.902000+00:00   \n",
       "1           3 2016-05-07 00:18:53.958000+00:00   \n",
       "2           6 2016-05-15 00:12:26.256000+00:00   \n",
       "3           7 2016-05-11 00:04:09.608000+00:00   \n",
       "4           9 2016-05-07 00:04:50.490000+00:00   \n",
       "...       ...                              ...   \n",
       "15115  506446 2016-05-30 00:07:54.082000+00:00   \n",
       "15116  512539 2016-05-21 00:08:08.736000+00:00   \n",
       "15117  539560 2016-05-23 00:11:31.996000+00:00   \n",
       "15118  568637 2016-05-12 00:04:14.624000+00:00   \n",
       "15119  707327 2016-05-24 00:03:44.003000+00:00   \n",
       "\n",
       "                                              \\\n",
       "                                   max count   \n",
       "0     2016-05-31 00:08:58.230000+00:00    14   \n",
       "1     2016-05-16 00:16:38.776000+00:00     9   \n",
       "2     2016-06-01 00:00:09.009000+00:00     6   \n",
       "3     2016-06-01 00:03:15.360000+00:00    20   \n",
       "4     2016-05-28 00:15:55.803000+00:00    13   \n",
       "...                                ...   ...   \n",
       "15115 2016-05-30 00:18:03.248000+00:00     7   \n",
       "15116 2016-05-31 00:02:30.799000+00:00     8   \n",
       "15117 2016-05-28 00:03:32.418000+00:00     6   \n",
       "15118 2016-06-01 00:14:14.369000+00:00    16   \n",
       "15119 2016-05-30 00:02:29.435000+00:00     5   \n",
       "\n",
       "      time between first and last interaction  \n",
       "                                               \n",
       "0                     23 days 00:03:32.328000  \n",
       "1                      8 days 23:57:44.818000  \n",
       "2                     16 days 23:47:42.753000  \n",
       "3                     20 days 23:59:05.752000  \n",
       "4                     21 days 00:11:05.313000  \n",
       "...                                       ...  \n",
       "15115                  0 days 00:10:09.166000  \n",
       "15116                  9 days 23:54:22.063000  \n",
       "15117                  4 days 23:52:00.422000  \n",
       "15118                 20 days 00:09:59.745000  \n",
       "15119                  5 days 23:58:45.432000  \n",
       "\n",
       "[15120 rows x 5 columns]"
      ]
     },
     "execution_count": 23,
     "metadata": {},
     "output_type": "execute_result"
    }
   ],
   "source": [
    "# create a dataframe where we track the first and last time an item was interacted with by taking the min and max of the Time column for each item. also count the number of interactions per item\n",
    "data_per_item = data.groupby('ItemId').agg({'TimeO': ['min', 'max', 'count']}).reset_index()\n",
    "\n",
    "# compute the time between the first and last interaction for each item\n",
    "data_per_item['time between first and last interaction'] = data_per_item['TimeO']['max'] - data_per_item['TimeO']['min']\n",
    "data_per_item\n"
   ]
  },
  {
   "cell_type": "code",
   "execution_count": 24,
   "metadata": {},
   "outputs": [
    {
     "data": {
      "text/plain": [
       "<Axes: xlabel='time between first and last interaction', ylabel='Count'>"
      ]
     },
     "execution_count": 24,
     "metadata": {},
     "output_type": "execute_result"
    },
    {
     "data": {
      "image/png": "[encoded data removed]",
      "text/plain": [
       "<Figure size 640x480 with 1 Axes>"
      ]
     },
     "metadata": {},
     "output_type": "display_data"
    }
   ],
   "source": [
    "# create a boxplot of the distribution of the time between the first and last interaction for each item\n",
    "sns.histplot(x=data_per_item['time between first and last interaction'].dt.days) "
   ]
  },
  {
   "cell_type": "markdown",
   "metadata": {},
   "source": [
    "The above histogram shows that most of the products are interected with up to 25 days. Only a few products are interacted with for more than 25 days. This makes sense as most interactions are made in may and june 2016. Lets add the month column to the dataset and see how the interactions are distributed over the months."
   ]
  },
  {
   "cell_type": "code",
   "execution_count": null,
   "metadata": {},
   "outputs": [],
   "source": [
    "# Create a figure with two subplots\n",
    "fig, axes = plt.subplots(1, 2, figsize=(12, 6))\n",
    "\n",
    "# Plot the first strip plot on the first subplot\n",
    "sns.stripplot(x=data_per_item['First month interaction'], \n",
    "              y=data_per_item['time between first and last interaction'].dt.days,\n",
    "              jitter=0.3,\n",
    "              ax=axes[0])\n",
    "\n",
    "# Set the title and labels for the first subplot\n",
    "axes[0].set_title('First Month Interaction')\n",
    "axes[0].set_xlabel('Month')\n",
    "axes[0].set_ylabel('Time Between First and Last Interaction (Days)')\n",
    "\n",
    "# Plot the second strip plot on the second subplot\n",
    "sns.stripplot(x=data_per_item['Last month interaction'], \n",
    "              y=data_per_item['time between first and last interaction'].dt.days,\n",
    "              jitter=0.3,\n",
    "              ax=axes[1])\n",
    "\n",
    "# Set the title and labels for the second subplot\n",
    "axes[1].set_title('Last Month Interaction')\n",
    "axes[1].set_xlabel('Month')\n",
    "axes[1].set_ylabel('Time Between First and Last Interaction (Days)')\n",
    "\n",
    "# Adjust the spacing between subplots\n",
    "plt.tight_layout()\n",
    "\n",
    "# Show the plot\n",
    "plt.show()\n"
   ]
  },
  {
   "cell_type": "markdown",
   "metadata": {},
   "source": [
    "May and June are the most popular months for interactions, or at least the months with the most interactions in the dataset. The dataset is not balanced over months and this might be a problem for the model. The model will be trained on data from a specific period, which might not be representative for the entire dataset. This is something to keep in mind when interpreting the results of the model."
   ]
  }
 ],
 "metadata": {
  "kernelspec": {
   "display_name": "master_thesis",
   "language": "python",
   "name": "python3"
  },
  "language_info": {
   "codemirror_mode": {
    "name": "ipython",
    "version": 3
   },
   "file_extension": ".py",
   "mimetype": "text/x-python",
   "name": "python",
   "nbconvert_exporter": "python",
   "pygments_lexer": "ipython3",
   "version": "3.9.19"
  }
 },
 "nbformat": 4,
 "nbformat_minor": 2
}
