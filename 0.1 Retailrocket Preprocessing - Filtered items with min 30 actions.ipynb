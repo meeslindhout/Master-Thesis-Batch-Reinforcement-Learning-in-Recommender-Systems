{
 "cells": [
  {
   "cell_type": "code",
   "execution_count": 1,
   "metadata": {},
   "outputs": [],
   "source": [
    "import polars as pl\n",
    "import os"
   ]
  },
  {
   "cell_type": "code",
   "execution_count": 2,
   "metadata": {},
   "outputs": [
    {
     "name": "stdout",
     "output_type": "stream",
     "text": [
      "shape: (5, 5)\n",
      "┌───────────────┬────────┬──────┬────────┬───────────────┐\n",
      "│ Time          ┆ UserId ┆ Type ┆ ItemId ┆ transactionid │\n",
      "│ ---           ┆ ---    ┆ ---  ┆ ---    ┆ ---           │\n",
      "│ i64           ┆ i64    ┆ str  ┆ i64    ┆ str           │\n",
      "╞═══════════════╪════════╪══════╪════════╪═══════════════╡\n",
      "│ 1433221332117 ┆ 257597 ┆ view ┆ 355908 ┆ null          │\n",
      "│ 1433224214164 ┆ 992329 ┆ view ┆ 248676 ┆ null          │\n",
      "│ 1433221999827 ┆ 111016 ┆ view ┆ 318965 ┆ null          │\n",
      "│ 1433221955914 ┆ 483717 ┆ view ┆ 253185 ┆ null          │\n",
      "│ 1433221337106 ┆ 951259 ┆ view ┆ 367447 ┆ null          │\n",
      "└───────────────┴────────┴──────┴────────┴───────────────┘\n",
      "(2756101, 5)\n"
     ]
    }
   ],
   "source": [
    "# load the data as a lazy dataframe\n",
    "data = pl.scan_csv(r'data\\downloaded datasets\\retailrocket\\events.csv',\n",
    "                   with_column_names=lambda names: ['Time', 'UserId', 'Type', 'ItemId', 'transactionid'])\n",
    "\n",
    "print(data.fetch(5))\n",
    "print(data.collect().shape)"
   ]
  },
  {
   "cell_type": "code",
   "execution_count": 3,
   "metadata": {},
   "outputs": [],
   "source": [
    "# remove transactionid colum\n",
    "data = data.drop('transactionid')"
   ]
  },
  {
   "cell_type": "code",
   "execution_count": 4,
   "metadata": {},
   "outputs": [
    {
     "data": {
      "text/html": [
       "<div><style>\n",
       ".dataframe > thead > tr,\n",
       ".dataframe > tbody > tr {\n",
       "  text-align: right;\n",
       "  white-space: pre-wrap;\n",
       "}\n",
       "</style>\n",
       "<small>shape: (1, 4)</small><table border=\"1\" class=\"dataframe\"><thead><tr><th>Time</th><th>UserId</th><th>Type</th><th>ItemId</th></tr><tr><td>u32</td><td>u32</td><td>u32</td><td>u32</td></tr></thead><tbody><tr><td>0</td><td>0</td><td>0</td><td>0</td></tr></tbody></table></div>"
      ],
      "text/plain": [
       "shape: (1, 4)\n",
       "┌──────┬────────┬──────┬────────┐\n",
       "│ Time ┆ UserId ┆ Type ┆ ItemId │\n",
       "│ ---  ┆ ---    ┆ ---  ┆ ---    │\n",
       "│ u32  ┆ u32    ┆ u32  ┆ u32    │\n",
       "╞══════╪════════╪══════╪════════╡\n",
       "│ 0    ┆ 0      ┆ 0    ┆ 0      │\n",
       "└──────┴────────┴──────┴────────┘"
      ]
     },
     "execution_count": 4,
     "metadata": {},
     "output_type": "execute_result"
    }
   ],
   "source": [
    "# check for missing values\n",
    "data.null_count().collect()"
   ]
  },
  {
   "cell_type": "markdown",
   "metadata": {},
   "source": [
    "Create session ids. each session has a maximum lenght of 30 minutes."
   ]
  },
  {
   "cell_type": "code",
   "execution_count": 5,
   "metadata": {},
   "outputs": [
    {
     "data": {
      "text/html": [
       "<div><style>\n",
       ".dataframe > thead > tr,\n",
       ".dataframe > tbody > tr {\n",
       "  text-align: right;\n",
       "  white-space: pre-wrap;\n",
       "}\n",
       "</style>\n",
       "<small>shape: (2_756_101, 4)</small><table border=\"1\" class=\"dataframe\"><thead><tr><th>Time</th><th>UserId</th><th>Type</th><th>ItemId</th></tr><tr><td>datetime[ms]</td><td>i64</td><td>str</td><td>i64</td></tr></thead><tbody><tr><td>2015-06-02 05:02:12.117</td><td>257597</td><td>&quot;view&quot;</td><td>355908</td></tr><tr><td>2015-06-02 05:50:14.164</td><td>992329</td><td>&quot;view&quot;</td><td>248676</td></tr><tr><td>2015-06-02 05:13:19.827</td><td>111016</td><td>&quot;view&quot;</td><td>318965</td></tr><tr><td>2015-06-02 05:12:35.914</td><td>483717</td><td>&quot;view&quot;</td><td>253185</td></tr><tr><td>2015-06-02 05:02:17.106</td><td>951259</td><td>&quot;view&quot;</td><td>367447</td></tr><tr><td>&hellip;</td><td>&hellip;</td><td>&hellip;</td><td>&hellip;</td></tr><tr><td>2015-08-01 03:13:05.939</td><td>591435</td><td>&quot;view&quot;</td><td>261427</td></tr><tr><td>2015-08-01 03:30:13.142</td><td>762376</td><td>&quot;view&quot;</td><td>115946</td></tr><tr><td>2015-08-01 02:57:00.527</td><td>1251746</td><td>&quot;view&quot;</td><td>78144</td></tr><tr><td>2015-08-01 03:08:50.703</td><td>1184451</td><td>&quot;view&quot;</td><td>283392</td></tr><tr><td>2015-08-01 03:36:03.914</td><td>199536</td><td>&quot;view&quot;</td><td>152913</td></tr></tbody></table></div>"
      ],
      "text/plain": [
       "shape: (2_756_101, 4)\n",
       "┌─────────────────────────┬─────────┬──────┬────────┐\n",
       "│ Time                    ┆ UserId  ┆ Type ┆ ItemId │\n",
       "│ ---                     ┆ ---     ┆ ---  ┆ ---    │\n",
       "│ datetime[ms]            ┆ i64     ┆ str  ┆ i64    │\n",
       "╞═════════════════════════╪═════════╪══════╪════════╡\n",
       "│ 2015-06-02 05:02:12.117 ┆ 257597  ┆ view ┆ 355908 │\n",
       "│ 2015-06-02 05:50:14.164 ┆ 992329  ┆ view ┆ 248676 │\n",
       "│ 2015-06-02 05:13:19.827 ┆ 111016  ┆ view ┆ 318965 │\n",
       "│ 2015-06-02 05:12:35.914 ┆ 483717  ┆ view ┆ 253185 │\n",
       "│ 2015-06-02 05:02:17.106 ┆ 951259  ┆ view ┆ 367447 │\n",
       "│ …                       ┆ …       ┆ …    ┆ …      │\n",
       "│ 2015-08-01 03:13:05.939 ┆ 591435  ┆ view ┆ 261427 │\n",
       "│ 2015-08-01 03:30:13.142 ┆ 762376  ┆ view ┆ 115946 │\n",
       "│ 2015-08-01 02:57:00.527 ┆ 1251746 ┆ view ┆ 78144  │\n",
       "│ 2015-08-01 03:08:50.703 ┆ 1184451 ┆ view ┆ 283392 │\n",
       "│ 2015-08-01 03:36:03.914 ┆ 199536  ┆ view ┆ 152913 │\n",
       "└─────────────────────────┴─────────┴──────┴────────┘"
      ]
     },
     "execution_count": 5,
     "metadata": {},
     "output_type": "execute_result"
    }
   ],
   "source": [
    "# create a timestamp column \n",
    "data = (data\n",
    "          .with_columns(\n",
    "              pl.from_epoch(\"Time\", time_unit=\"ms\")\n",
    "              )\n",
    "          )\n",
    "\n",
    "data.collect()"
   ]
  },
  {
   "cell_type": "markdown",
   "metadata": {},
   "source": [
    "create session ids. Each session has a maximum lenght of 30 minutes."
   ]
  },
  {
   "cell_type": "code",
   "execution_count": 6,
   "metadata": {},
   "outputs": [
    {
     "data": {
      "text/html": [
       "<div><style>\n",
       ".dataframe > thead > tr,\n",
       ".dataframe > tbody > tr {\n",
       "  text-align: right;\n",
       "  white-space: pre-wrap;\n",
       "}\n",
       "</style>\n",
       "<small>shape: (2_756_101, 5)</small><table border=\"1\" class=\"dataframe\"><thead><tr><th>Time</th><th>UserId</th><th>Type</th><th>ItemId</th><th>SessionId</th></tr><tr><td>datetime[ms]</td><td>i64</td><td>str</td><td>i64</td><td>u32</td></tr></thead><tbody><tr><td>2015-09-11 20:49:49.439</td><td>0</td><td>&quot;view&quot;</td><td>285930</td><td>1</td></tr><tr><td>2015-09-11 20:52:39.591</td><td>0</td><td>&quot;view&quot;</td><td>357564</td><td>1</td></tr><tr><td>2015-09-11 20:55:17.175</td><td>0</td><td>&quot;view&quot;</td><td>67045</td><td>1</td></tr><tr><td>2015-08-13 17:46:06.444</td><td>1</td><td>&quot;view&quot;</td><td>72028</td><td>2</td></tr><tr><td>2015-08-07 17:51:44.567</td><td>2</td><td>&quot;view&quot;</td><td>325215</td><td>3</td></tr><tr><td>&hellip;</td><td>&hellip;</td><td>&hellip;</td><td>&hellip;</td><td>&hellip;</td></tr><tr><td>2015-06-10 21:46:08.922</td><td>1407575</td><td>&quot;view&quot;</td><td>121220</td><td>1759829</td></tr><tr><td>2015-06-03 15:01:29.991</td><td>1407576</td><td>&quot;view&quot;</td><td>356208</td><td>1759830</td></tr><tr><td>2015-05-17 21:48:04.867</td><td>1407577</td><td>&quot;view&quot;</td><td>427784</td><td>1759831</td></tr><tr><td>2015-05-17 01:21:23.288</td><td>1407578</td><td>&quot;view&quot;</td><td>188736</td><td>1759832</td></tr><tr><td>2015-06-24 22:22:06.978</td><td>1407579</td><td>&quot;view&quot;</td><td>2521</td><td>1759833</td></tr></tbody></table></div>"
      ],
      "text/plain": [
       "shape: (2_756_101, 5)\n",
       "┌─────────────────────────┬─────────┬──────┬────────┬───────────┐\n",
       "│ Time                    ┆ UserId  ┆ Type ┆ ItemId ┆ SessionId │\n",
       "│ ---                     ┆ ---     ┆ ---  ┆ ---    ┆ ---       │\n",
       "│ datetime[ms]            ┆ i64     ┆ str  ┆ i64    ┆ u32       │\n",
       "╞═════════════════════════╪═════════╪══════╪════════╪═══════════╡\n",
       "│ 2015-09-11 20:49:49.439 ┆ 0       ┆ view ┆ 285930 ┆ 1         │\n",
       "│ 2015-09-11 20:52:39.591 ┆ 0       ┆ view ┆ 357564 ┆ 1         │\n",
       "│ 2015-09-11 20:55:17.175 ┆ 0       ┆ view ┆ 67045  ┆ 1         │\n",
       "│ 2015-08-13 17:46:06.444 ┆ 1       ┆ view ┆ 72028  ┆ 2         │\n",
       "│ 2015-08-07 17:51:44.567 ┆ 2       ┆ view ┆ 325215 ┆ 3         │\n",
       "│ …                       ┆ …       ┆ …    ┆ …      ┆ …         │\n",
       "│ 2015-06-10 21:46:08.922 ┆ 1407575 ┆ view ┆ 121220 ┆ 1759829   │\n",
       "│ 2015-06-03 15:01:29.991 ┆ 1407576 ┆ view ┆ 356208 ┆ 1759830   │\n",
       "│ 2015-05-17 21:48:04.867 ┆ 1407577 ┆ view ┆ 427784 ┆ 1759831   │\n",
       "│ 2015-05-17 01:21:23.288 ┆ 1407578 ┆ view ┆ 188736 ┆ 1759832   │\n",
       "│ 2015-06-24 22:22:06.978 ┆ 1407579 ┆ view ┆ 2521   ┆ 1759833   │\n",
       "└─────────────────────────┴─────────┴──────┴────────┴───────────┘"
      ]
     },
     "execution_count": 6,
     "metadata": {},
     "output_type": "execute_result"
    }
   ],
   "source": [
    "# sort the dataset on userid and timestamp\n",
    "data = data.sort(['UserId', 'Time'])\n",
    "\n",
    "data = (data\n",
    "       # create two new columns that contain boolean values if the previous row is another user or exceeds the maximum session length\n",
    "       .with_columns([\n",
    "           # check if the user_id is different from the previous row\n",
    "           (pl.col(\"UserId\").diff() != 0).fill_null(True).alias(\"char_diff\"),\n",
    "           # check if the time difference between the current and previous row exceeds the threshold\n",
    "           (pl.col(\"Time\").diff().dt.total_minutes().cast(pl.Int64) > 30).fill_null(True).alias(\"ts_diff\"),\n",
    "       ])\n",
    "\n",
    "       # create a new column that determines if a new session needs to be started after this row\n",
    "       .with_columns([\n",
    "           (pl.col(\"ts_diff\") | pl.col(\"char_diff\")).alias(\"new_session_mark\")\n",
    "       ])\n",
    "\n",
    "       # drop the columns that we don't need anymore\n",
    "       .drop([\"char_diff\", \"ts_diff\"])\n",
    "\n",
    "       # create a new column that contains the session id\n",
    "       .with_columns([\n",
    "           (pl.col(\"new_session_mark\").cum_sum()).alias(\"SessionId\")\n",
    "       ])\n",
    "       # drop the column that we don't need anymore\n",
    "       .drop(\"new_session_mark\")\n",
    "       )\n",
    "data.collect()"
   ]
  },
  {
   "cell_type": "markdown",
   "metadata": {},
   "source": [
    "Filter out session ids with only one interaction and also session ids that have items that appear les than 5 times. (item cold start)"
   ]
  },
  {
   "cell_type": "code",
   "execution_count": 7,
   "metadata": {},
   "outputs": [
    {
     "data": {
      "text/html": [
       "<div><style>\n",
       ".dataframe > thead > tr,\n",
       ".dataframe > tbody > tr {\n",
       "  text-align: right;\n",
       "  white-space: pre-wrap;\n",
       "}\n",
       "</style>\n",
       "<small>shape: (382_979, 1)</small><table border=\"1\" class=\"dataframe\"><thead><tr><th>SessionId</th></tr><tr><td>u32</td></tr></thead><tbody><tr><td>816381</td></tr><tr><td>1175156</td></tr><tr><td>675463</td></tr><tr><td>100820</td></tr><tr><td>1690935</td></tr><tr><td>&hellip;</td></tr><tr><td>909293</td></tr><tr><td>1251943</td></tr><tr><td>816232</td></tr><tr><td>124900</td></tr><tr><td>1084140</td></tr></tbody></table></div>"
      ],
      "text/plain": [
       "shape: (382_979, 1)\n",
       "┌───────────┐\n",
       "│ SessionId │\n",
       "│ ---       │\n",
       "│ u32       │\n",
       "╞═══════════╡\n",
       "│ 816381    │\n",
       "│ 1175156   │\n",
       "│ 675463    │\n",
       "│ 100820    │\n",
       "│ 1690935   │\n",
       "│ …         │\n",
       "│ 909293    │\n",
       "│ 1251943   │\n",
       "│ 816232    │\n",
       "│ 124900    │\n",
       "│ 1084140   │\n",
       "└───────────┘"
      ]
     },
     "execution_count": 7,
     "metadata": {},
     "output_type": "execute_result"
    }
   ],
   "source": [
    "# Get session ids with more than one interaction in session\n",
    "SessionIdsWithMoreThanOneInteraction = (data\n",
    "                                        # get the length of each session\n",
    "                                        .group_by('SessionId').len()\n",
    "                                        # filter out the sessions that only contain one action\n",
    "                                        .filter(pl.col('len') > 1)\n",
    "                                        .select('SessionId')\n",
    "                                        ).collect()\n",
    "\n",
    "SessionIdsWithMoreThanOneInteraction"
   ]
  },
  {
   "cell_type": "code",
   "execution_count": 8,
   "metadata": {},
   "outputs": [
    {
     "name": "stdout",
     "output_type": "stream",
     "text": [
      "ItemIdsColdstartItems: shape: (215_353, 1)\n",
      "┌────────┐\n",
      "│ ItemId │\n",
      "│ ---    │\n",
      "│ i64    │\n",
      "╞════════╡\n",
      "│ 24519  │\n",
      "│ 73857  │\n",
      "│ 180415 │\n",
      "│ 366949 │\n",
      "│ 174211 │\n",
      "│ …      │\n",
      "│ 401586 │\n",
      "│ 370252 │\n",
      "│ 311846 │\n",
      "│ 154907 │\n",
      "│ 335318 │\n",
      "└────────┘\n",
      "SessionIdsWithColdstartItems: shape: (822_990, 1)\n",
      "┌───────────┐\n",
      "│ SessionId │\n",
      "│ ---       │\n",
      "│ u32       │\n",
      "╞═══════════╡\n",
      "│ 1099774   │\n",
      "│ 1142382   │\n",
      "│ 259024    │\n",
      "│ 1525246   │\n",
      "│ 1114449   │\n",
      "│ …         │\n",
      "│ 1646996   │\n",
      "│ 1649756   │\n",
      "│ 228459    │\n",
      "│ 138283    │\n",
      "│ 1497435   │\n",
      "└───────────┘\n"
     ]
    }
   ],
   "source": [
    "ItemIdsColdstartItems = (data\n",
    "                         .group_by(['ItemId', 'Type']).len()\n",
    "                         .filter(pl.col('Type') == 'view')\n",
    "                         .filter(pl.col('len') < 30)\n",
    "                         .select('ItemId')\n",
    "                         ).collect()\n",
    "\n",
    "print(f'ItemIdsColdstartItems: {ItemIdsColdstartItems}')\n",
    "\n",
    "SessionIdsWithColdstartItems = (data\n",
    "                                .filter(pl.col('ItemId').is_in(ItemIdsColdstartItems))\n",
    "                                .select('SessionId')\n",
    "                                ).unique().collect()\n",
    "print(f'SessionIdsWithColdstartItems: {SessionIdsWithColdstartItems}')"
   ]
  },
  {
   "cell_type": "code",
   "execution_count": 9,
   "metadata": {},
   "outputs": [
    {
     "data": {
      "text/html": [
       "<div><style>\n",
       ".dataframe > thead > tr,\n",
       ".dataframe > tbody > tr {\n",
       "  text-align: right;\n",
       "  white-space: pre-wrap;\n",
       "}\n",
       "</style>\n",
       "<small>shape: (578_324, 5)</small><table border=\"1\" class=\"dataframe\"><thead><tr><th>Time</th><th>UserId</th><th>Type</th><th>ItemId</th><th>SessionId</th></tr><tr><td>datetime[ms]</td><td>i64</td><td>str</td><td>i64</td><td>u32</td></tr></thead><tbody><tr><td>2015-09-11 20:49:49.439</td><td>0</td><td>&quot;view&quot;</td><td>285930</td><td>1</td></tr><tr><td>2015-09-11 20:52:39.591</td><td>0</td><td>&quot;view&quot;</td><td>357564</td><td>1</td></tr><tr><td>2015-09-11 20:55:17.175</td><td>0</td><td>&quot;view&quot;</td><td>67045</td><td>1</td></tr><tr><td>2015-08-07 17:51:44.567</td><td>2</td><td>&quot;view&quot;</td><td>325215</td><td>3</td></tr><tr><td>2015-08-07 17:53:33.790</td><td>2</td><td>&quot;view&quot;</td><td>325215</td><td>3</td></tr><tr><td>&hellip;</td><td>&hellip;</td><td>&hellip;</td><td>&hellip;</td><td>&hellip;</td></tr><tr><td>2015-07-05 04:59:11.277</td><td>1407560</td><td>&quot;view&quot;</td><td>240708</td><td>1759810</td></tr><tr><td>2015-08-01 04:12:07.230</td><td>1407573</td><td>&quot;view&quot;</td><td>363109</td><td>1759826</td></tr><tr><td>2015-08-01 04:12:45.311</td><td>1407573</td><td>&quot;view&quot;</td><td>463766</td><td>1759826</td></tr><tr><td>2015-08-04 00:32:47.715</td><td>1407573</td><td>&quot;view&quot;</td><td>82278</td><td>1759827</td></tr><tr><td>2015-08-04 00:34:55.146</td><td>1407573</td><td>&quot;view&quot;</td><td>82278</td><td>1759827</td></tr></tbody></table></div>"
      ],
      "text/plain": [
       "shape: (578_324, 5)\n",
       "┌─────────────────────────┬─────────┬──────┬────────┬───────────┐\n",
       "│ Time                    ┆ UserId  ┆ Type ┆ ItemId ┆ SessionId │\n",
       "│ ---                     ┆ ---     ┆ ---  ┆ ---    ┆ ---       │\n",
       "│ datetime[ms]            ┆ i64     ┆ str  ┆ i64    ┆ u32       │\n",
       "╞═════════════════════════╪═════════╪══════╪════════╪═══════════╡\n",
       "│ 2015-09-11 20:49:49.439 ┆ 0       ┆ view ┆ 285930 ┆ 1         │\n",
       "│ 2015-09-11 20:52:39.591 ┆ 0       ┆ view ┆ 357564 ┆ 1         │\n",
       "│ 2015-09-11 20:55:17.175 ┆ 0       ┆ view ┆ 67045  ┆ 1         │\n",
       "│ 2015-08-07 17:51:44.567 ┆ 2       ┆ view ┆ 325215 ┆ 3         │\n",
       "│ 2015-08-07 17:53:33.790 ┆ 2       ┆ view ┆ 325215 ┆ 3         │\n",
       "│ …                       ┆ …       ┆ …    ┆ …      ┆ …         │\n",
       "│ 2015-07-05 04:59:11.277 ┆ 1407560 ┆ view ┆ 240708 ┆ 1759810   │\n",
       "│ 2015-08-01 04:12:07.230 ┆ 1407573 ┆ view ┆ 363109 ┆ 1759826   │\n",
       "│ 2015-08-01 04:12:45.311 ┆ 1407573 ┆ view ┆ 463766 ┆ 1759826   │\n",
       "│ 2015-08-04 00:32:47.715 ┆ 1407573 ┆ view ┆ 82278  ┆ 1759827   │\n",
       "│ 2015-08-04 00:34:55.146 ┆ 1407573 ┆ view ┆ 82278  ┆ 1759827   │\n",
       "└─────────────────────────┴─────────┴──────┴────────┴───────────┘"
      ]
     },
     "metadata": {},
     "output_type": "display_data"
    },
    {
     "data": {
      "text/plain": [
       "(578324, 5)"
      ]
     },
     "execution_count": 9,
     "metadata": {},
     "output_type": "execute_result"
    }
   ],
   "source": [
    "# keep the session ids that have more than one interaction and do not contain coldstart items\n",
    "data = (data\n",
    "        .filter(pl.col('SessionId').is_in(SessionIdsWithMoreThanOneInteraction))\n",
    "        # .filter(~pl.col('ItemId').is_in(ItemIdsColdstartItems))\n",
    "        .filter(~pl.col('SessionId').is_in(SessionIdsWithColdstartItems))\n",
    "\n",
    "        # sort the dataset on userid and timestamp\n",
    "        .sort(['SessionId', 'Time'])\n",
    "        ).collect()\n",
    "\n",
    "display(data)\n",
    "data.shape"
   ]
  },
  {
   "cell_type": "markdown",
   "metadata": {},
   "source": [
    "Create a train and test set."
   ]
  },
  {
   "cell_type": "code",
   "execution_count": 10,
   "metadata": {},
   "outputs": [
    {
     "name": "stdout",
     "output_type": "stream",
     "text": [
      "First date in the dataset: 2015-05-03 03:00:04.384000\n",
      "Last date in the dataset: 2015-09-18 02:58:36.506000\n"
     ]
    }
   ],
   "source": [
    "min_time = data['Time'].min()\n",
    "max_time = data['Time'].max()\n",
    "\n",
    "print(f\"First date in the dataset: {min_time}\")\n",
    "print(f\"Last date in the dataset: {max_time}\")"
   ]
  },
  {
   "cell_type": "code",
   "execution_count": 11,
   "metadata": {},
   "outputs": [
    {
     "data": {
      "text/html": [
       "<div><style>\n",
       ".dataframe > thead > tr,\n",
       ".dataframe > tbody > tr {\n",
       "  text-align: right;\n",
       "  white-space: pre-wrap;\n",
       "}\n",
       "</style>\n",
       "<small>shape: (20_143, 5)</small><table border=\"1\" class=\"dataframe\"><thead><tr><th>Time</th><th>UserId</th><th>Type</th><th>ItemId</th><th>SessionId</th></tr><tr><td>datetime[ms]</td><td>i64</td><td>str</td><td>i64</td><td>u32</td></tr></thead><tbody><tr><td>2015-09-11 20:49:49.439</td><td>0</td><td>&quot;view&quot;</td><td>285930</td><td>1</td></tr><tr><td>2015-09-11 20:52:39.591</td><td>0</td><td>&quot;view&quot;</td><td>357564</td><td>1</td></tr><tr><td>2015-09-11 20:55:17.175</td><td>0</td><td>&quot;view&quot;</td><td>67045</td><td>1</td></tr><tr><td>2015-09-15 04:09:00.204</td><td>177</td><td>&quot;view&quot;</td><td>6073</td><td>241</td></tr><tr><td>2015-09-15 04:09:43.293</td><td>177</td><td>&quot;addtocart&quot;</td><td>6073</td><td>241</td></tr><tr><td>&hellip;</td><td>&hellip;</td><td>&hellip;</td><td>&hellip;</td><td>&hellip;</td></tr><tr><td>2015-09-13 22:48:01.844</td><td>1407056</td><td>&quot;view&quot;</td><td>79572</td><td>1759164</td></tr><tr><td>2015-09-13 04:36:06.867</td><td>1407422</td><td>&quot;view&quot;</td><td>354153</td><td>1759650</td></tr><tr><td>2015-09-13 04:40:29.604</td><td>1407422</td><td>&quot;view&quot;</td><td>354153</td><td>1759650</td></tr><tr><td>2015-09-13 19:37:08.715</td><td>1407528</td><td>&quot;view&quot;</td><td>195083</td><td>1759775</td></tr><tr><td>2015-09-13 19:38:02.365</td><td>1407528</td><td>&quot;view&quot;</td><td>355595</td><td>1759775</td></tr></tbody></table></div>"
      ],
      "text/plain": [
       "shape: (20_143, 5)\n",
       "┌─────────────────────────┬─────────┬───────────┬────────┬───────────┐\n",
       "│ Time                    ┆ UserId  ┆ Type      ┆ ItemId ┆ SessionId │\n",
       "│ ---                     ┆ ---     ┆ ---       ┆ ---    ┆ ---       │\n",
       "│ datetime[ms]            ┆ i64     ┆ str       ┆ i64    ┆ u32       │\n",
       "╞═════════════════════════╪═════════╪═══════════╪════════╪═══════════╡\n",
       "│ 2015-09-11 20:49:49.439 ┆ 0       ┆ view      ┆ 285930 ┆ 1         │\n",
       "│ 2015-09-11 20:52:39.591 ┆ 0       ┆ view      ┆ 357564 ┆ 1         │\n",
       "│ 2015-09-11 20:55:17.175 ┆ 0       ┆ view      ┆ 67045  ┆ 1         │\n",
       "│ 2015-09-15 04:09:00.204 ┆ 177     ┆ view      ┆ 6073   ┆ 241       │\n",
       "│ 2015-09-15 04:09:43.293 ┆ 177     ┆ addtocart ┆ 6073   ┆ 241       │\n",
       "│ …                       ┆ …       ┆ …         ┆ …      ┆ …         │\n",
       "│ 2015-09-13 22:48:01.844 ┆ 1407056 ┆ view      ┆ 79572  ┆ 1759164   │\n",
       "│ 2015-09-13 04:36:06.867 ┆ 1407422 ┆ view      ┆ 354153 ┆ 1759650   │\n",
       "│ 2015-09-13 04:40:29.604 ┆ 1407422 ┆ view      ┆ 354153 ┆ 1759650   │\n",
       "│ 2015-09-13 19:37:08.715 ┆ 1407528 ┆ view      ┆ 195083 ┆ 1759775   │\n",
       "│ 2015-09-13 19:38:02.365 ┆ 1407528 ┆ view      ┆ 355595 ┆ 1759775   │\n",
       "└─────────────────────────┴─────────┴───────────┴────────┴───────────┘"
      ]
     },
     "execution_count": 11,
     "metadata": {},
     "output_type": "execute_result"
    }
   ],
   "source": [
    "# take last 7 days of data as test set\n",
    "test = data.filter(pl.col('Time') > max_time - pl.duration(days=7))\n",
    "\n",
    "test"
   ]
  },
  {
   "cell_type": "code",
   "execution_count": 12,
   "metadata": {},
   "outputs": [
    {
     "data": {
      "text/html": [
       "<div><style>\n",
       ".dataframe > thead > tr,\n",
       ".dataframe > tbody > tr {\n",
       "  text-align: right;\n",
       "  white-space: pre-wrap;\n",
       "}\n",
       "</style>\n",
       "<small>shape: (558_181, 5)</small><table border=\"1\" class=\"dataframe\"><thead><tr><th>Time</th><th>UserId</th><th>Type</th><th>ItemId</th><th>SessionId</th></tr><tr><td>datetime[ms]</td><td>i64</td><td>str</td><td>i64</td><td>u32</td></tr></thead><tbody><tr><td>2015-08-07 17:51:44.567</td><td>2</td><td>&quot;view&quot;</td><td>325215</td><td>3</td></tr><tr><td>2015-08-07 17:53:33.790</td><td>2</td><td>&quot;view&quot;</td><td>325215</td><td>3</td></tr><tr><td>2015-08-07 17:56:52.664</td><td>2</td><td>&quot;view&quot;</td><td>259884</td><td>3</td></tr><tr><td>2015-08-07 18:01:08.920</td><td>2</td><td>&quot;view&quot;</td><td>216305</td><td>3</td></tr><tr><td>2015-08-07 18:08:25.669</td><td>2</td><td>&quot;view&quot;</td><td>342816</td><td>3</td></tr><tr><td>&hellip;</td><td>&hellip;</td><td>&hellip;</td><td>&hellip;</td><td>&hellip;</td></tr><tr><td>2015-07-05 04:59:11.277</td><td>1407560</td><td>&quot;view&quot;</td><td>240708</td><td>1759810</td></tr><tr><td>2015-08-01 04:12:07.230</td><td>1407573</td><td>&quot;view&quot;</td><td>363109</td><td>1759826</td></tr><tr><td>2015-08-01 04:12:45.311</td><td>1407573</td><td>&quot;view&quot;</td><td>463766</td><td>1759826</td></tr><tr><td>2015-08-04 00:32:47.715</td><td>1407573</td><td>&quot;view&quot;</td><td>82278</td><td>1759827</td></tr><tr><td>2015-08-04 00:34:55.146</td><td>1407573</td><td>&quot;view&quot;</td><td>82278</td><td>1759827</td></tr></tbody></table></div>"
      ],
      "text/plain": [
       "shape: (558_181, 5)\n",
       "┌─────────────────────────┬─────────┬──────┬────────┬───────────┐\n",
       "│ Time                    ┆ UserId  ┆ Type ┆ ItemId ┆ SessionId │\n",
       "│ ---                     ┆ ---     ┆ ---  ┆ ---    ┆ ---       │\n",
       "│ datetime[ms]            ┆ i64     ┆ str  ┆ i64    ┆ u32       │\n",
       "╞═════════════════════════╪═════════╪══════╪════════╪═══════════╡\n",
       "│ 2015-08-07 17:51:44.567 ┆ 2       ┆ view ┆ 325215 ┆ 3         │\n",
       "│ 2015-08-07 17:53:33.790 ┆ 2       ┆ view ┆ 325215 ┆ 3         │\n",
       "│ 2015-08-07 17:56:52.664 ┆ 2       ┆ view ┆ 259884 ┆ 3         │\n",
       "│ 2015-08-07 18:01:08.920 ┆ 2       ┆ view ┆ 216305 ┆ 3         │\n",
       "│ 2015-08-07 18:08:25.669 ┆ 2       ┆ view ┆ 342816 ┆ 3         │\n",
       "│ …                       ┆ …       ┆ …    ┆ …      ┆ …         │\n",
       "│ 2015-07-05 04:59:11.277 ┆ 1407560 ┆ view ┆ 240708 ┆ 1759810   │\n",
       "│ 2015-08-01 04:12:07.230 ┆ 1407573 ┆ view ┆ 363109 ┆ 1759826   │\n",
       "│ 2015-08-01 04:12:45.311 ┆ 1407573 ┆ view ┆ 463766 ┆ 1759826   │\n",
       "│ 2015-08-04 00:32:47.715 ┆ 1407573 ┆ view ┆ 82278  ┆ 1759827   │\n",
       "│ 2015-08-04 00:34:55.146 ┆ 1407573 ┆ view ┆ 82278  ┆ 1759827   │\n",
       "└─────────────────────────┴─────────┴──────┴────────┴───────────┘"
      ]
     },
     "execution_count": 12,
     "metadata": {},
     "output_type": "execute_result"
    }
   ],
   "source": [
    "# remove test data from the dataset\n",
    "train = data.filter(pl.col('Time') <= max_time - pl.duration(days=7))\n",
    "\n",
    "train"
   ]
  },
  {
   "cell_type": "code",
   "execution_count": 13,
   "metadata": {},
   "outputs": [
    {
     "name": "stdout",
     "output_type": "stream",
     "text": [
      "Sessions in train set: 187138\n"
     ]
    }
   ],
   "source": [
    "print(f\"Sessions in train set: {train['SessionId'].n_unique()}\")"
   ]
  },
  {
   "cell_type": "markdown",
   "metadata": {},
   "source": [
    "Filter out items that are in the test data but not in the train data. "
   ]
  },
  {
   "cell_type": "code",
   "execution_count": 14,
   "metadata": {},
   "outputs": [
    {
     "data": {
      "text/plain": [
       "(20027, 5)"
      ]
     },
     "execution_count": 14,
     "metadata": {},
     "output_type": "execute_result"
    }
   ],
   "source": [
    "ItemIdsInTest = test.select('ItemId').unique()\n",
    "ItemIdsInTrain = train.select('ItemId').unique()\n",
    "\n",
    "# create a list with the item ids that are in the test set but not in the training set\n",
    "ItemIdsInTestbutNotInTrain = ItemIdsInTest.filter(~pl.col('ItemId').is_in(ItemIdsInTrain))\n",
    "\n",
    "# remove items that are in the test set but not in the training set\n",
    "test = test.filter(~pl.col('ItemId').is_in(ItemIdsInTestbutNotInTrain))\n",
    "\n",
    "test.shape"
   ]
  },
  {
   "cell_type": "markdown",
   "metadata": {},
   "source": [
    "prepare the data for the model by converting the Time back to unix time"
   ]
  },
  {
   "cell_type": "code",
   "execution_count": 15,
   "metadata": {},
   "outputs": [],
   "source": [
    "train = train.with_columns(\n",
    "    pl.col(\"Time\").dt.epoch(time_unit='s').alias(\"Time\")\n",
    ")\n",
    "\n",
    "test = test.with_columns(\n",
    "    pl.col(\"Time\").dt.epoch(time_unit='s').alias(\"Time\")\n",
    ")   "
   ]
  },
  {
   "cell_type": "markdown",
   "metadata": {},
   "source": [
    "save the datasets"
   ]
  },
  {
   "cell_type": "code",
   "execution_count": 16,
   "metadata": {},
   "outputs": [],
   "source": [
    "# create directory\n",
    "os.makedirs('data/processed datasets/retailrocket', exist_ok=True)\n",
    "\n",
    "train.write_csv('data/processed datasets/retailrocket/events_train - Filtered items with min 30 actions.csv',\n",
    "                separator='\\t')\n",
    "test.write_csv('data/processed datasets/retailrocket/events_test - Filtered items with min 30 actions.csv',\n",
    "               separator='\\t')"
   ]
  },
  {
   "cell_type": "markdown",
   "metadata": {},
   "source": [
    "summary statistics"
   ]
  },
  {
   "cell_type": "code",
   "execution_count": 17,
   "metadata": {},
   "outputs": [],
   "source": [
    "# concat the train and test data to calculate the statistics\n",
    "data = pl.concat([train, test])"
   ]
  },
  {
   "cell_type": "code",
   "execution_count": 18,
   "metadata": {},
   "outputs": [
    {
     "data": {
      "text/html": [
       "<div><style>\n",
       ".dataframe > thead > tr,\n",
       ".dataframe > tbody > tr {\n",
       "  text-align: right;\n",
       "  white-space: pre-wrap;\n",
       "}\n",
       "</style>\n",
       "<small>shape: (3, 2)</small><table border=\"1\" class=\"dataframe\"><thead><tr><th>Type</th><th>len</th></tr><tr><td>str</td><td>u32</td></tr></thead><tbody><tr><td>&quot;addtocart&quot;</td><td>28515</td></tr><tr><td>&quot;transaction&quot;</td><td>8738</td></tr><tr><td>&quot;view&quot;</td><td>540955</td></tr></tbody></table></div>"
      ],
      "text/plain": [
       "shape: (3, 2)\n",
       "┌─────────────┬────────┐\n",
       "│ Type        ┆ len    │\n",
       "│ ---         ┆ ---    │\n",
       "│ str         ┆ u32    │\n",
       "╞═════════════╪════════╡\n",
       "│ addtocart   ┆ 28515  │\n",
       "│ transaction ┆ 8738   │\n",
       "│ view        ┆ 540955 │\n",
       "└─────────────┴────────┘"
      ]
     },
     "execution_count": 18,
     "metadata": {},
     "output_type": "execute_result"
    }
   ],
   "source": [
    "data.group_by('Type').len()"
   ]
  },
  {
   "cell_type": "code",
   "execution_count": 19,
   "metadata": {},
   "outputs": [
    {
     "data": {
      "text/plain": [
       "(578208, 5)"
      ]
     },
     "execution_count": 19,
     "metadata": {},
     "output_type": "execute_result"
    }
   ],
   "source": [
    "data.shape"
   ]
  },
  {
   "cell_type": "code",
   "execution_count": 20,
   "metadata": {},
   "outputs": [
    {
     "name": "stdout",
     "output_type": "stream",
     "text": [
      "Summary statistics for the whole dataset: \n",
      "Number of events: 578208\n",
      "Number of unique items: 19273\n",
      "Number of sessions: 194341\n",
      "Average session length: 2.98\n",
      "\n",
      "Summary statistics for the train dataset: \n",
      "Number of events: 558181\n",
      "Number of unique items: 19273\n",
      "Number of sessions: 187138\n",
      "Average session length: 2.98\n",
      "\n",
      "Summary statistics for the test dataset: \n",
      "Number of events: 20027\n",
      "Number of unique items: 5874\n",
      "Number of sessions: 7214\n",
      "Average session length: 2.78\n",
      "\n"
     ]
    }
   ],
   "source": [
    "def summary_stats(df, dataset_str):\n",
    "    print(f'Summary statistics for the {dataset_str} dataset: ')\n",
    "    n_events = df.shape[0]\n",
    "    print(f'Number of events: {n_events}')\n",
    "    # calculate the number of unique items\n",
    "    n_items = df.select('ItemId').n_unique()\n",
    "    print(f'Number of unique items: {n_items}')\n",
    "    # calculate the number of sessions\n",
    "    n_sessions = df.select('SessionId').n_unique()\n",
    "    print(f'Number of sessions: {n_sessions}')\n",
    "    # calculate the session length\n",
    "    session_length = df.group_by('SessionId').agg(pl.count('SessionId').alias('len')).select(pl.col('len').mean())[0, 0]\n",
    "    print(f'Average session length: {round(session_length, 2)}\\n')\n",
    "    \n",
    "summary_stats(data, 'whole')\n",
    "summary_stats(train, 'train')\n",
    "summary_stats(test, 'test')"
   ]
  }
 ],
 "metadata": {
  "kernelspec": {
   "display_name": "master_thesis",
   "language": "python",
   "name": "python3"
  },
  "language_info": {
   "codemirror_mode": {
    "name": "ipython",
    "version": 3
   },
   "file_extension": ".py",
   "mimetype": "text/x-python",
   "name": "python",
   "nbconvert_exporter": "python",
   "pygments_lexer": "ipython3",
   "version": "3.9.19"
  }
 },
 "nbformat": 4,
 "nbformat_minor": 2
}
