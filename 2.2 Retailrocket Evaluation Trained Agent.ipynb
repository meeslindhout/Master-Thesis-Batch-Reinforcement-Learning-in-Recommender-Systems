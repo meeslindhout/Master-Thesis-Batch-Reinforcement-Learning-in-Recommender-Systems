{
 "cells": [
  {
   "cell_type": "code",
   "execution_count": 1,
   "metadata": {},
   "outputs": [],
   "source": [
    "import pandas as pd\n",
    "from src.recsys_baseline import VSKNN_STAN\n",
    "from src.recsys_rl import rl_recommender\n",
    "from src.evaluation import evaluate_sessions, MRR, HitRate, StrategicHybrid"
   ]
  },
  {
   "cell_type": "markdown",
   "metadata": {},
   "source": [
    "## load datasets"
   ]
  },
  {
   "cell_type": "code",
   "execution_count": 2,
   "metadata": {},
   "outputs": [
    {
     "data": {
      "text/html": [
       "<div>\n",
       "<style scoped>\n",
       "    .dataframe tbody tr th:only-of-type {\n",
       "        vertical-align: middle;\n",
       "    }\n",
       "\n",
       "    .dataframe tbody tr th {\n",
       "        vertical-align: top;\n",
       "    }\n",
       "\n",
       "    .dataframe thead th {\n",
       "        text-align: right;\n",
       "    }\n",
       "</style>\n",
       "<table border=\"1\" class=\"dataframe\">\n",
       "  <thead>\n",
       "    <tr style=\"text-align: right;\">\n",
       "      <th></th>\n",
       "      <th>Time</th>\n",
       "      <th>UserId</th>\n",
       "      <th>Type</th>\n",
       "      <th>ItemId</th>\n",
       "      <th>SessionId</th>\n",
       "    </tr>\n",
       "  </thead>\n",
       "  <tbody>\n",
       "    <tr>\n",
       "      <th>0</th>\n",
       "      <td>1442004589</td>\n",
       "      <td>0</td>\n",
       "      <td>view</td>\n",
       "      <td>285930</td>\n",
       "      <td>1</td>\n",
       "    </tr>\n",
       "    <tr>\n",
       "      <th>1</th>\n",
       "      <td>1442004759</td>\n",
       "      <td>0</td>\n",
       "      <td>view</td>\n",
       "      <td>357564</td>\n",
       "      <td>1</td>\n",
       "    </tr>\n",
       "    <tr>\n",
       "      <th>2</th>\n",
       "      <td>1442004917</td>\n",
       "      <td>0</td>\n",
       "      <td>view</td>\n",
       "      <td>67045</td>\n",
       "      <td>1</td>\n",
       "    </tr>\n",
       "    <tr>\n",
       "      <th>3</th>\n",
       "      <td>1438969904</td>\n",
       "      <td>2</td>\n",
       "      <td>view</td>\n",
       "      <td>325215</td>\n",
       "      <td>3</td>\n",
       "    </tr>\n",
       "    <tr>\n",
       "      <th>4</th>\n",
       "      <td>1438970013</td>\n",
       "      <td>2</td>\n",
       "      <td>view</td>\n",
       "      <td>325215</td>\n",
       "      <td>3</td>\n",
       "    </tr>\n",
       "  </tbody>\n",
       "</table>\n",
       "</div>"
      ],
      "text/plain": [
       "         Time  UserId  Type  ItemId  SessionId\n",
       "0  1442004589       0  view  285930          1\n",
       "1  1442004759       0  view  357564          1\n",
       "2  1442004917       0  view   67045          1\n",
       "3  1438969904       2  view  325215          3\n",
       "4  1438970013       2  view  325215          3"
      ]
     },
     "metadata": {},
     "output_type": "display_data"
    },
    {
     "data": {
      "text/plain": [
       "(1184988, 5)"
      ]
     },
     "metadata": {},
     "output_type": "display_data"
    }
   ],
   "source": [
    "train = pd.read_csv(r'data/premade datasets/retailrocket/events_train_full.txt',\n",
    "                    sep='\\t')\n",
    "display(train.head())\n",
    "display(train.shape)"
   ]
  },
  {
   "cell_type": "code",
   "execution_count": 3,
   "metadata": {},
   "outputs": [
    {
     "data": {
      "text/html": [
       "<div>\n",
       "<style scoped>\n",
       "    .dataframe tbody tr th:only-of-type {\n",
       "        vertical-align: middle;\n",
       "    }\n",
       "\n",
       "    .dataframe tbody tr th {\n",
       "        vertical-align: top;\n",
       "    }\n",
       "\n",
       "    .dataframe thead th {\n",
       "        text-align: right;\n",
       "    }\n",
       "</style>\n",
       "<table border=\"1\" class=\"dataframe\">\n",
       "  <thead>\n",
       "    <tr style=\"text-align: right;\">\n",
       "      <th></th>\n",
       "      <th>Time</th>\n",
       "      <th>UserId</th>\n",
       "      <th>Type</th>\n",
       "      <th>ItemId</th>\n",
       "      <th>SessionId</th>\n",
       "    </tr>\n",
       "  </thead>\n",
       "  <tbody>\n",
       "    <tr>\n",
       "      <th>0</th>\n",
       "      <td>1442535624</td>\n",
       "      <td>1840</td>\n",
       "      <td>view</td>\n",
       "      <td>129332</td>\n",
       "      <td>2301</td>\n",
       "    </tr>\n",
       "    <tr>\n",
       "      <th>1</th>\n",
       "      <td>1442535780</td>\n",
       "      <td>1840</td>\n",
       "      <td>view</td>\n",
       "      <td>358485</td>\n",
       "      <td>2301</td>\n",
       "    </tr>\n",
       "    <tr>\n",
       "      <th>2</th>\n",
       "      <td>1442535949</td>\n",
       "      <td>1840</td>\n",
       "      <td>view</td>\n",
       "      <td>287227</td>\n",
       "      <td>2301</td>\n",
       "    </tr>\n",
       "    <tr>\n",
       "      <th>3</th>\n",
       "      <td>1442536030</td>\n",
       "      <td>1840</td>\n",
       "      <td>view</td>\n",
       "      <td>290227</td>\n",
       "      <td>2301</td>\n",
       "    </tr>\n",
       "    <tr>\n",
       "      <th>4</th>\n",
       "      <td>1442458998</td>\n",
       "      <td>2937</td>\n",
       "      <td>view</td>\n",
       "      <td>81554</td>\n",
       "      <td>3742</td>\n",
       "    </tr>\n",
       "  </tbody>\n",
       "</table>\n",
       "</div>"
      ],
      "text/plain": [
       "         Time  UserId  Type  ItemId  SessionId\n",
       "0  1442535624    1840  view  129332       2301\n",
       "1  1442535780    1840  view  358485       2301\n",
       "2  1442535949    1840  view  287227       2301\n",
       "3  1442536030    1840  view  290227       2301\n",
       "4  1442458998    2937  view   81554       3742"
      ]
     },
     "metadata": {},
     "output_type": "display_data"
    },
    {
     "data": {
      "text/plain": [
       "(3936, 5)"
      ]
     },
     "metadata": {},
     "output_type": "display_data"
    }
   ],
   "source": [
    "test = pd.read_csv(r'data/premade datasets/retailrocket/events_test.txt',\n",
    "                    sep='\\t')\n",
    "display(test.head())\n",
    "display(test.shape)"
   ]
  },
  {
   "cell_type": "markdown",
   "metadata": {},
   "source": [
    "## Hybrid model (reward: click=3, addtocart=8, purchase=10)"
   ]
  },
  {
   "cell_type": "code",
   "execution_count": 4,
   "metadata": {},
   "outputs": [
    {
     "name": "stdout",
     "output_type": "stream",
     "text": [
      "Initializing offline training agent\n"
     ]
    },
    {
     "name": "stderr",
     "output_type": "stream",
     "text": [
      "/home/mees/anaconda3/envs/master_thesis/lib/python3.9/site-packages/torch/cuda/__init__.py:118: UserWarning: CUDA initialization: The NVIDIA driver on your system is too old (found version 11040). Please update your GPU driver by downloading and installing a new version from the URL: http://www.nvidia.com/Download/index.aspx Alternatively, go to: https://pytorch.org to install a PyTorch version that has been compiled with your version of the CUDA driver. (Triggered internally at ../c10/cuda/CUDAFunctions.cpp:108.)\n",
      "  return torch._C._cuda_getDeviceCount() > 0\n"
     ]
    },
    {
     "name": "stdout",
     "output_type": "stream",
     "text": [
      "Loading pretrained model from: trained agents/retailrocket/20240627_135343 - n_hist 5 state_size 5 action_size 466865.pth\n",
      "Pretrained model successfully loaded\n"
     ]
    }
   ],
   "source": [
    "model_1 = rl_recommender(\n",
    "    n_history=5,\n",
    "    file_path=r'trained agents/retailrocket/click=3, addtocart=8, purchase=10/20240627_135343 - n_hist 5 state_size 5 action_size 466865.pth',\n",
    "    state_size=5,\n",
    "    action_size=466865,\n",
    "    mode='predicting'\n",
    ")\n",
    "\n",
    "model_2 = VSKNN_STAN(k=500,\n",
    "                     sample_size=1000,\n",
    "                     similarity='cosine',\n",
    "                    #    stan:  \n",
    "                     lambda_spw=7.24,  \n",
    "                     lambda_snh=100,  \n",
    "                     lambda_inh=3.62,  \n",
    "                    #    vsknn:  \n",
    "                     lambda_ipw=3.62, \n",
    "                     lambda_idf=1\n",
    "                       )\n",
    "\n",
    "# Initialize the hybrid model\n",
    "model = StrategicHybrid(algorithms=[model_1, model_2],\n",
    "                        thresholds=[5]) # after 5 recommendations, the second algorithm is used\n",
    "# Fit the hybrid model\n",
    "model.fit(train)"
   ]
  },
  {
   "cell_type": "code",
   "execution_count": 5,
   "metadata": {},
   "outputs": [
    {
     "name": "stdout",
     "output_type": "stream",
     "text": [
      "START evaluation of  3936  actions in  1125  sessions\n",
      "    eval process:  0  of  3936  actions:  0.0  %\n",
      "    eval process:  1000  of  3936  actions:  25.406504065040654  %\n",
      "    eval process:  2000  of  3936  actions:  50.81300813008131  %\n",
      "    eval process:  3000  of  3936  actions:  76.21951219512195  %\n",
      "END evaluation\n"
     ]
    },
    {
     "data": {
      "text/plain": [
       "[('MRR@20: ',\n",
       "  0.0509260510443804,\n",
       "  'Bin: ;\\nPrecision@20: ;',\n",
       "  'Pos: ;0;1;2;3;4;5;6;7;8;9;10;11;12;13;14;15;16;17;18;19;20;21;22;23;24;25;26;27;28;29;30;31;32;33;34;35;36;37;38;39;40;41;42;43;44;45;46;47;48;49;50;51;52;53;54;55;56;57;58;59;60;61;62;63;64;65;66;67;68;\\nPrecision@20: ;0.0;0.0;0.0;0.0;0.0;0.23942099567099567;0.31159953880542113;0.2682329622132254;0.319805154407618;0.3472222222222222;0.245109201575367;0.2618351886209029;0.28474747474747475;0.2072916666666667;0.23703703703703705;0.26095238095238094;0.19166666666666668;0.1987179487179487;0.16666666666666666;0.061294765840220394;0.029513888888888888;0.15422077922077923;0.046703296703296704;0.12012987012987013;0.21428571428571427;0.07222222222222222;0.0;0.06666666666666667;0.32857142857142857;0.11333333333333333;0.1181818181818182;0.025;0.0;0.016666666666666666;0.041666666666666664;0.09375;0.0;0.037037037037037035;0.0;0.0434173669467787;0.037037037037037035;0.047619047619047616;0.041666666666666664;0.025641025641025644;0.3703703703703704;0.0;0.020833333333333332;0.0;0.1111111111111111;0.018518518518518517;0.3333333333333333;0.16666666666666666;0.16666666666666666;0.0;0.0;0.0;0.0;0.0;0.0;0.0;0.0;0.0;0.0;0.0;0.0;1.0;0.0;0.0;0.16666666666666666;'),\n",
       " ('HitRate@20: ',\n",
       "  0.10707933119886162,\n",
       "  'Bin: ;\\nHitRate@20: ;',\n",
       "  'Pos: ;0;1;2;3;4;5;6;7;8;9;10;11;12;13;14;15;16;17;18;19;20;21;22;23;24;25;26;27;28;29;30;31;32;33;34;35;36;37;38;39;40;41;42;43;44;45;46;47;48;49;50;51;52;53;54;55;56;57;58;59;60;61;62;63;64;65;66;67;68;\\nHitRate@20: ;0.0;0.0;0.0;0.0;0.0;0.45454545454545453;0.6363636363636364;0.5833333333333334;0.6808510638297872;0.6153846153846154;0.4857142857142857;0.5;0.56;0.4;0.3888888888888889;0.4666666666666667;0.4666666666666667;0.3076923076923077;0.16666666666666666;0.2727272727272727;0.25;0.375;0.2857142857142857;0.5714285714285714;0.4;0.4;0.0;0.2;0.6;0.4;0.4;0.2;0.0;0.25;0.25;0.5;0.0;0.3333333333333333;0.0;0.6666666666666666;0.3333333333333333;0.3333333333333333;0.3333333333333333;0.3333333333333333;0.6666666666666666;0.0;0.3333333333333333;0.0;0.3333333333333333;0.3333333333333333;0.3333333333333333;0.3333333333333333;0.3333333333333333;0.0;0.0;0.0;0.0;0.0;0.0;0.0;0.0;0.0;0.0;0.0;0.0;1.0;0.0;0.0;1.0;')]"
      ]
     },
     "execution_count": 5,
     "metadata": {},
     "output_type": "execute_result"
    }
   ],
   "source": [
    "metrics = [MRR(20),\n",
    "           HitRate(20)]\n",
    "\n",
    "evaluate_sessions(pr=model,\n",
    "                  metrics= metrics,\n",
    "                  test_data=test,\n",
    "                  train_data=train,\n",
    "                  cut_off=20)"
   ]
  },
  {
   "cell_type": "markdown",
   "metadata": {},
   "source": [
    "### 10 interactions"
   ]
  },
  {
   "cell_type": "code",
   "execution_count": 6,
   "metadata": {},
   "outputs": [
    {
     "name": "stdout",
     "output_type": "stream",
     "text": [
      "Initializing offline training agent\n",
      "Loading pretrained model from: trained agents/retailrocket/20240627_141013 - n_hist 10 state_size 10 action_size 466865.pth\n",
      "Pretrained model successfully loaded\n"
     ]
    }
   ],
   "source": [
    "model_1 = rl_recommender(\n",
    "    n_history=10,\n",
    "    file_path=r'trained agents/retailrocket/click=3, addtocart=8, purchase=10/20240627_141013 - n_hist 10 state_size 10 action_size 466865.pth',\n",
    "    state_size=10,\n",
    "    action_size=466865,\n",
    "    mode='predicting'\n",
    ")\n",
    "\n",
    "model_2 = VSKNN_STAN(k=500,\n",
    "                     sample_size=1000,\n",
    "                     similarity='cosine',\n",
    "                    #    stan:  \n",
    "                     lambda_spw=7.24,  \n",
    "                     lambda_snh=100,  \n",
    "                     lambda_inh=3.62,  \n",
    "                    #    vsknn:  \n",
    "                     lambda_ipw=3.62, \n",
    "                     lambda_idf=1\n",
    "                       )\n",
    "\n",
    "# Initialize the hybrid model\n",
    "model = StrategicHybrid(algorithms=[model_1, model_2],\n",
    "                        thresholds=[10]) # after 10 recommendations, the second algorithm is used\n",
    "# Fit the hybrid model\n",
    "model.fit(train)"
   ]
  },
  {
   "cell_type": "code",
   "execution_count": 7,
   "metadata": {},
   "outputs": [
    {
     "name": "stdout",
     "output_type": "stream",
     "text": [
      "START evaluation of  3936  actions in  1125  sessions\n",
      "    eval process:  0  of  3936  actions:  0.0  %\n",
      "    eval process:  1000  of  3936  actions:  25.406504065040654  %\n",
      "    eval process:  2000  of  3936  actions:  50.81300813008131  %\n",
      "    eval process:  3000  of  3936  actions:  76.21951219512195  %\n",
      "END evaluation\n"
     ]
    },
    {
     "data": {
      "text/plain": [
       "[('MRR@20: ',\n",
       "  0.020423638981978468,\n",
       "  'Bin: ;\\nPrecision@20: ;',\n",
       "  'Pos: ;0;1;2;3;4;5;6;7;8;9;10;11;12;13;14;15;16;17;18;19;20;21;22;23;24;25;26;27;28;29;30;31;32;33;34;35;36;37;38;39;40;41;42;43;44;45;46;47;48;49;50;51;52;53;54;55;56;57;58;59;60;61;62;63;64;65;66;67;68;\\nPrecision@20: ;0.0004967320261437909;0.0;0.0;0.0;0.0;0.0;0.0;0.0;0.0;0.0;0.245109201575367;0.2618351886209029;0.28474747474747475;0.2072916666666667;0.23703703703703705;0.26095238095238094;0.19166666666666668;0.1987179487179487;0.16666666666666666;0.061294765840220394;0.029513888888888888;0.15422077922077923;0.046703296703296704;0.12012987012987013;0.21428571428571427;0.07222222222222222;0.0;0.06666666666666667;0.32857142857142857;0.11333333333333333;0.1181818181818182;0.025;0.0;0.016666666666666666;0.041666666666666664;0.09375;0.0;0.037037037037037035;0.0;0.0434173669467787;0.037037037037037035;0.047619047619047616;0.041666666666666664;0.025641025641025644;0.3703703703703704;0.0;0.020833333333333332;0.0;0.1111111111111111;0.018518518518518517;0.3333333333333333;0.16666666666666666;0.16666666666666666;0.0;0.0;0.0;0.0;0.0;0.0;0.0;0.0;0.0;0.0;0.0;0.0;1.0;0.0;0.0;0.16666666666666666;'),\n",
       " ('HitRate@20: ',\n",
       "  0.04624688722874422,\n",
       "  'Bin: ;\\nHitRate@20: ;',\n",
       "  'Pos: ;0;1;2;3;4;5;6;7;8;9;10;11;12;13;14;15;16;17;18;19;20;21;22;23;24;25;26;27;28;29;30;31;32;33;34;35;36;37;38;39;40;41;42;43;44;45;46;47;48;49;50;51;52;53;54;55;56;57;58;59;60;61;62;63;64;65;66;67;68;\\nHitRate@20: ;0.0017777777777777779;0.0;0.0;0.0;0.0;0.0;0.0;0.0;0.0;0.0;0.4857142857142857;0.5;0.56;0.4;0.3888888888888889;0.4666666666666667;0.4666666666666667;0.3076923076923077;0.16666666666666666;0.2727272727272727;0.25;0.375;0.2857142857142857;0.5714285714285714;0.4;0.4;0.0;0.2;0.6;0.4;0.4;0.2;0.0;0.25;0.25;0.5;0.0;0.3333333333333333;0.0;0.6666666666666666;0.3333333333333333;0.3333333333333333;0.3333333333333333;0.3333333333333333;0.6666666666666666;0.0;0.3333333333333333;0.0;0.3333333333333333;0.3333333333333333;0.3333333333333333;0.3333333333333333;0.3333333333333333;0.0;0.0;0.0;0.0;0.0;0.0;0.0;0.0;0.0;0.0;0.0;0.0;1.0;0.0;0.0;1.0;')]"
      ]
     },
     "execution_count": 7,
     "metadata": {},
     "output_type": "execute_result"
    }
   ],
   "source": [
    "metrics = [MRR(20),\n",
    "           HitRate(20)]\n",
    "\n",
    "evaluate_sessions(pr=model,\n",
    "                  metrics= metrics,\n",
    "                  test_data=test,\n",
    "                  train_data=train,\n",
    "                  cut_off=20)"
   ]
  },
  {
   "cell_type": "markdown",
   "metadata": {},
   "source": [
    "### 15 interactions"
   ]
  },
  {
   "cell_type": "code",
   "execution_count": 8,
   "metadata": {},
   "outputs": [
    {
     "name": "stdout",
     "output_type": "stream",
     "text": [
      "Initializing offline training agent\n",
      "Loading pretrained model from: trained agents/retailrocket/20240627_142646 - n_hist 15 state_size 15 action_size 466865.pth\n",
      "Pretrained model successfully loaded\n"
     ]
    }
   ],
   "source": [
    "model_1 = rl_recommender(\n",
    "    n_history=15,\n",
    "    file_path=r'trained agents/retailrocket/click=3, addtocart=8, purchase=10/20240627_142646 - n_hist 15 state_size 15 action_size 466865.pth',\n",
    "    state_size=15,\n",
    "    action_size=466865,\n",
    "    mode='predicting'\n",
    ")\n",
    "\n",
    "model_2 = VSKNN_STAN(k=500,\n",
    "                     sample_size=1000,\n",
    "                     similarity='cosine',\n",
    "                    #    stan:  \n",
    "                     lambda_spw=7.24,  \n",
    "                     lambda_snh=100,  \n",
    "                     lambda_inh=3.62,  \n",
    "                    #    vsknn:  \n",
    "                     lambda_ipw=3.62, \n",
    "                     lambda_idf=1\n",
    "                       )\n",
    "\n",
    "# Initialize the hybrid model\n",
    "model = StrategicHybrid(algorithms=[model_1, model_2],\n",
    "                        thresholds=[15]) # after 15 recommendations, the second algorithm is used\n",
    "# Fit the hybrid model\n",
    "model.fit(train)"
   ]
  },
  {
   "cell_type": "code",
   "execution_count": 9,
   "metadata": {},
   "outputs": [
    {
     "name": "stdout",
     "output_type": "stream",
     "text": [
      "START evaluation of  3936  actions in  1125  sessions\n",
      "    eval process:  0  of  3936  actions:  0.0  %\n",
      "    eval process:  1000  of  3936  actions:  25.406504065040654  %\n",
      "    eval process:  2000  of  3936  actions:  50.81300813008131  %\n",
      "    eval process:  3000  of  3936  actions:  76.21951219512195  %\n",
      "END evaluation\n"
     ]
    },
    {
     "data": {
      "text/plain": [
       "[('MRR@20: ',\n",
       "  0.009039712359914503,\n",
       "  'Bin: ;\\nPrecision@20: ;',\n",
       "  'Pos: ;0;1;2;3;4;5;6;7;8;9;10;11;12;13;14;15;16;17;18;19;20;21;22;23;24;25;26;27;28;29;30;31;32;33;34;35;36;37;38;39;40;41;42;43;44;45;46;47;48;49;50;51;52;53;54;55;56;57;58;59;60;61;62;63;64;65;66;67;68;\\nPrecision@20: ;0.0;0.0;0.0;0.0;0.0;0.0;0.0;0.0;0.0;0.0;0.0;0.0;0.0;0.0;0.0;0.26095238095238094;0.19166666666666668;0.1987179487179487;0.16666666666666666;0.061294765840220394;0.029513888888888888;0.15422077922077923;0.046703296703296704;0.12012987012987013;0.21428571428571427;0.07222222222222222;0.0;0.06666666666666667;0.32857142857142857;0.11333333333333333;0.1181818181818182;0.025;0.0;0.016666666666666666;0.041666666666666664;0.09375;0.0;0.037037037037037035;0.0;0.0434173669467787;0.037037037037037035;0.047619047619047616;0.041666666666666664;0.025641025641025644;0.3703703703703704;0.0;0.020833333333333332;0.0;0.1111111111111111;0.018518518518518517;0.3333333333333333;0.16666666666666666;0.16666666666666666;0.0;0.0;0.0;0.0;0.0;0.0;0.0;0.0;0.0;0.0;0.0;0.0;1.0;0.0;0.0;0.16666666666666666;'),\n",
       " ('HitRate@20: ',\n",
       "  0.024190679473496977,\n",
       "  'Bin: ;\\nHitRate@20: ;',\n",
       "  'Pos: ;0;1;2;3;4;5;6;7;8;9;10;11;12;13;14;15;16;17;18;19;20;21;22;23;24;25;26;27;28;29;30;31;32;33;34;35;36;37;38;39;40;41;42;43;44;45;46;47;48;49;50;51;52;53;54;55;56;57;58;59;60;61;62;63;64;65;66;67;68;\\nHitRate@20: ;0.0;0.0;0.0;0.0;0.0;0.0;0.0;0.0;0.0;0.0;0.0;0.0;0.0;0.0;0.0;0.4666666666666667;0.4666666666666667;0.3076923076923077;0.16666666666666666;0.2727272727272727;0.25;0.375;0.2857142857142857;0.5714285714285714;0.4;0.4;0.0;0.2;0.6;0.4;0.4;0.2;0.0;0.25;0.25;0.5;0.0;0.3333333333333333;0.0;0.6666666666666666;0.3333333333333333;0.3333333333333333;0.3333333333333333;0.3333333333333333;0.6666666666666666;0.0;0.3333333333333333;0.0;0.3333333333333333;0.3333333333333333;0.3333333333333333;0.3333333333333333;0.3333333333333333;0.0;0.0;0.0;0.0;0.0;0.0;0.0;0.0;0.0;0.0;0.0;0.0;1.0;0.0;0.0;1.0;')]"
      ]
     },
     "execution_count": 9,
     "metadata": {},
     "output_type": "execute_result"
    }
   ],
   "source": [
    "metrics = [MRR(20),\n",
    "           HitRate(20)]\n",
    "\n",
    "evaluate_sessions(pr=model,\n",
    "                  metrics= metrics,\n",
    "                  test_data=test,\n",
    "                  train_data=train,\n",
    "                  cut_off=20)"
   ]
  },
  {
   "cell_type": "markdown",
   "metadata": {},
   "source": [
    "### 100 interactions\n",
    "In other words, the model almost only uses the first model to predict next interactions with items."
   ]
  },
  {
   "cell_type": "code",
   "execution_count": 10,
   "metadata": {},
   "outputs": [
    {
     "name": "stdout",
     "output_type": "stream",
     "text": [
      "Initializing offline training agent\n",
      "Loading pretrained model from: trained agents/retailrocket/20240627_144343 - n_hist 100 state_size 100 action_size 466865.pth\n",
      "Pretrained model successfully loaded\n"
     ]
    }
   ],
   "source": [
    "model_1 = rl_recommender(\n",
    "    n_history=100,\n",
    "    file_path=r'trained agents/retailrocket/click=3, addtocart=8, purchase=10/20240627_144343 - n_hist 100 state_size 100 action_size 466865.pth',\n",
    "    state_size=100,\n",
    "    action_size=466865,\n",
    "    mode='predicting'\n",
    ")\n",
    "\n",
    "model_2 = VSKNN_STAN(k=500,\n",
    "                     sample_size=1000,\n",
    "                     similarity='cosine',\n",
    "                    #    stan:  \n",
    "                     lambda_spw=7.24,  \n",
    "                     lambda_snh=100,  \n",
    "                     lambda_inh=3.62,  \n",
    "                    #    vsknn:  \n",
    "                     lambda_ipw=3.62, \n",
    "                     lambda_idf=1\n",
    "                       )\n",
    "\n",
    "# Initialize the hybrid model\n",
    "model = StrategicHybrid(algorithms=[model_1, model_2],\n",
    "                        thresholds=[100]) # after 100 recommendations, the second algorithm is used\n",
    "# Fit the hybrid model\n",
    "model.fit(train)"
   ]
  },
  {
   "cell_type": "code",
   "execution_count": 11,
   "metadata": {},
   "outputs": [
    {
     "name": "stdout",
     "output_type": "stream",
     "text": [
      "START evaluation of  3936  actions in  1125  sessions\n",
      "    eval process:  0  of  3936  actions:  0.0  %\n",
      "    eval process:  1000  of  3936  actions:  25.406504065040654  %\n",
      "    eval process:  2000  of  3936  actions:  50.81300813008131  %\n",
      "    eval process:  3000  of  3936  actions:  76.21951219512195  %\n",
      "END evaluation\n"
     ]
    },
    {
     "data": {
      "text/plain": [
       "[('MRR@20: ',\n",
       "  0.0004387525198624451,\n",
       "  'Bin: ;\\nPrecision@20: ;',\n",
       "  'Pos: ;0;1;2;3;4;5;6;7;8;9;10;11;12;13;14;15;16;17;18;19;20;21;22;23;24;25;26;27;28;29;30;31;32;33;34;35;36;37;38;39;40;41;42;43;44;45;46;47;48;49;50;51;52;53;54;55;56;57;58;59;60;61;62;63;64;65;66;67;68;\\nPrecision@20: ;0.0010370370370370368;0.0;0.0;0.0;0.0;0.0;0.00101010101010101;0.0;0.0;0.0;0.0;0.0;0.0;0.0;0.0;0.0;0.0;0.0;0.0;0.0;0.0;0.0;0.0;0.0;0.0;0.0;0.0;0.0;0.0;0.0;0.0;0.0;0.0;0.0;0.0;0.0;0.0;0.0;0.0;0.0;0.0;0.0;0.0;0.0;0.0;0.0;0.0;0.0;0.0;0.0;0.0;0.0;0.0;0.0;0.0;0.0;0.0;0.0;0.0;0.0;0.0;0.0;0.0;0.0;0.0;0.0;0.0;0.0;0.0;'),\n",
       " ('HitRate@20: ',\n",
       "  0.001422981145499822,\n",
       "  'Bin: ;\\nHitRate@20: ;',\n",
       "  'Pos: ;0;1;2;3;4;5;6;7;8;9;10;11;12;13;14;15;16;17;18;19;20;21;22;23;24;25;26;27;28;29;30;31;32;33;34;35;36;37;38;39;40;41;42;43;44;45;46;47;48;49;50;51;52;53;54;55;56;57;58;59;60;61;62;63;64;65;66;67;68;\\nHitRate@20: ;0.0026666666666666666;0.0;0.0;0.0;0.0;0.0;0.015151515151515152;0.0;0.0;0.0;0.0;0.0;0.0;0.0;0.0;0.0;0.0;0.0;0.0;0.0;0.0;0.0;0.0;0.0;0.0;0.0;0.0;0.0;0.0;0.0;0.0;0.0;0.0;0.0;0.0;0.0;0.0;0.0;0.0;0.0;0.0;0.0;0.0;0.0;0.0;0.0;0.0;0.0;0.0;0.0;0.0;0.0;0.0;0.0;0.0;0.0;0.0;0.0;0.0;0.0;0.0;0.0;0.0;0.0;0.0;0.0;0.0;0.0;0.0;')]"
      ]
     },
     "execution_count": 11,
     "metadata": {},
     "output_type": "execute_result"
    }
   ],
   "source": [
    "metrics = [MRR(20),\n",
    "           HitRate(20)]\n",
    "\n",
    "evaluate_sessions(pr=model,\n",
    "                  metrics= metrics,\n",
    "                  test_data=test,\n",
    "                  train_data=train,\n",
    "                  cut_off=20)"
   ]
  },
  {
   "cell_type": "code",
   "execution_count": 12,
   "metadata": {},
   "outputs": [
    {
     "name": "stdout",
     "output_type": "stream",
     "text": [
      "START evaluation of  3936  actions in  1125  sessions\n",
      "    eval process:  0  of  3936  actions:  0.0  %\n",
      "    eval process:  1000  of  3936  actions:  25.406504065040654  %\n",
      "    eval process:  2000  of  3936  actions:  50.81300813008131  %\n",
      "    eval process:  3000  of  3936  actions:  76.21951219512195  %\n",
      "END evaluation\n"
     ]
    },
    {
     "data": {
      "text/plain": [
       "[('MRR@20: ',\n",
       "  0.0004387525198624451,\n",
       "  'Bin: ;\\nPrecision@20: ;',\n",
       "  'Pos: ;0;1;2;3;4;5;6;7;8;9;10;11;12;13;14;15;16;17;18;19;20;21;22;23;24;25;26;27;28;29;30;31;32;33;34;35;36;37;38;39;40;41;42;43;44;45;46;47;48;49;50;51;52;53;54;55;56;57;58;59;60;61;62;63;64;65;66;67;68;\\nPrecision@20: ;0.0010370370370370368;0.0;0.0;0.0;0.0;0.0;0.00101010101010101;0.0;0.0;0.0;0.0;0.0;0.0;0.0;0.0;0.0;0.0;0.0;0.0;0.0;0.0;0.0;0.0;0.0;0.0;0.0;0.0;0.0;0.0;0.0;0.0;0.0;0.0;0.0;0.0;0.0;0.0;0.0;0.0;0.0;0.0;0.0;0.0;0.0;0.0;0.0;0.0;0.0;0.0;0.0;0.0;0.0;0.0;0.0;0.0;0.0;0.0;0.0;0.0;0.0;0.0;0.0;0.0;0.0;0.0;0.0;0.0;0.0;0.0;'),\n",
       " ('HitRate@20: ',\n",
       "  0.001422981145499822,\n",
       "  'Bin: ;\\nHitRate@20: ;',\n",
       "  'Pos: ;0;1;2;3;4;5;6;7;8;9;10;11;12;13;14;15;16;17;18;19;20;21;22;23;24;25;26;27;28;29;30;31;32;33;34;35;36;37;38;39;40;41;42;43;44;45;46;47;48;49;50;51;52;53;54;55;56;57;58;59;60;61;62;63;64;65;66;67;68;\\nHitRate@20: ;0.0026666666666666666;0.0;0.0;0.0;0.0;0.0;0.015151515151515152;0.0;0.0;0.0;0.0;0.0;0.0;0.0;0.0;0.0;0.0;0.0;0.0;0.0;0.0;0.0;0.0;0.0;0.0;0.0;0.0;0.0;0.0;0.0;0.0;0.0;0.0;0.0;0.0;0.0;0.0;0.0;0.0;0.0;0.0;0.0;0.0;0.0;0.0;0.0;0.0;0.0;0.0;0.0;0.0;0.0;0.0;0.0;0.0;0.0;0.0;0.0;0.0;0.0;0.0;0.0;0.0;0.0;0.0;0.0;0.0;0.0;0.0;')]"
      ]
     },
     "execution_count": 12,
     "metadata": {},
     "output_type": "execute_result"
    }
   ],
   "source": [
    "metrics = [MRR(20),\n",
    "           HitRate(20)]\n",
    "\n",
    "evaluate_sessions(pr=model,\n",
    "                  metrics= metrics,\n",
    "                  test_data=test,\n",
    "                  train_data=train,\n",
    "                  cut_off=20)"
   ]
  },
  {
   "cell_type": "markdown",
   "metadata": {},
   "source": [
    "## Hybrid model (reward: click=0, addtocart=8, purchase=10)"
   ]
  },
  {
   "cell_type": "markdown",
   "metadata": {},
   "source": [
    "### 5 interactions"
   ]
  },
  {
   "cell_type": "code",
   "execution_count": 13,
   "metadata": {},
   "outputs": [
    {
     "name": "stdout",
     "output_type": "stream",
     "text": [
      "Initializing offline training agent\n",
      "Loading pretrained model from: trained agents/retailrocket/20240627_151814 - n_hist 5 state_size 5 action_size 466865.pth\n",
      "Pretrained model successfully loaded\n"
     ]
    }
   ],
   "source": [
    "model_1 = rl_recommender(\n",
    "    n_history=5,\n",
    "    file_path=r'trained agents/retailrocket/click=0, addtocart=8, purchase=10/20240627_151814 - n_hist 5 state_size 5 action_size 466865.pth',\n",
    "    state_size=5,\n",
    "    action_size=466865,\n",
    "    mode='predicting'\n",
    ")\n",
    "\n",
    "model_2 = VSKNN_STAN(k=500,\n",
    "                     sample_size=1000,\n",
    "                     similarity='cosine',\n",
    "                    #    stan:  \n",
    "                     lambda_spw=7.24,  \n",
    "                     lambda_snh=100,  \n",
    "                     lambda_inh=3.62,  \n",
    "                    #    vsknn:  \n",
    "                     lambda_ipw=3.62, \n",
    "                     lambda_idf=1\n",
    "                       )\n",
    "\n",
    "# Initialize the hybrid model\n",
    "model = StrategicHybrid(algorithms=[model_1, model_2],\n",
    "                        thresholds=[5]) # after 5 recommendations, the second algorithm is used\n",
    "# Fit the hybrid model\n",
    "model.fit(train)"
   ]
  },
  {
   "cell_type": "markdown",
   "metadata": {},
   "source": [
    "### 10 interactions"
   ]
  },
  {
   "cell_type": "code",
   "execution_count": 14,
   "metadata": {},
   "outputs": [
    {
     "name": "stdout",
     "output_type": "stream",
     "text": [
      "Initializing offline training agent\n",
      "Loading pretrained model from: trained agents/retailrocket/20240627_155644 - n_hist 10 state_size 10 action_size 466865.pth\n",
      "Pretrained model successfully loaded\n"
     ]
    }
   ],
   "source": [
    "model_1 = rl_recommender(\n",
    "    n_history=10,\n",
    "    file_path=r'trained agents/retailrocket/click=0, addtocart=8, purchase=10/20240627_155644 - n_hist 10 state_size 10 action_size 466865.pth',\n",
    "    state_size=10,\n",
    "    action_size=466865,\n",
    "    mode='predicting'\n",
    ")\n",
    "\n",
    "model_2 = VSKNN_STAN(k=500,\n",
    "                     sample_size=1000,\n",
    "                     similarity='cosine',\n",
    "                    #    stan:  \n",
    "                     lambda_spw=7.24,  \n",
    "                     lambda_snh=100,  \n",
    "                     lambda_inh=3.62,  \n",
    "                    #    vsknn:  \n",
    "                     lambda_ipw=3.62, \n",
    "                     lambda_idf=1\n",
    "                       )\n",
    "\n",
    "# Initialize the hybrid model\n",
    "model = StrategicHybrid(algorithms=[model_1, model_2],\n",
    "                        thresholds=[10]) # after 10 recommendations, the second algorithm is used\n",
    "# Fit the hybrid model\n",
    "model.fit(train)"
   ]
  },
  {
   "cell_type": "code",
   "execution_count": 15,
   "metadata": {},
   "outputs": [
    {
     "name": "stdout",
     "output_type": "stream",
     "text": [
      "START evaluation of  3936  actions in  1125  sessions\n",
      "    eval process:  0  of  3936  actions:  0.0  %\n",
      "    eval process:  1000  of  3936  actions:  25.406504065040654  %\n",
      "    eval process:  2000  of  3936  actions:  50.81300813008131  %\n",
      "    eval process:  3000  of  3936  actions:  76.21951219512195  %\n",
      "END evaluation\n"
     ]
    },
    {
     "data": {
      "text/plain": [
       "[('MRR@20: ',\n",
       "  0.020275660900671243,\n",
       "  'Bin: ;\\nPrecision@20: ;',\n",
       "  'Pos: ;0;1;2;3;4;5;6;7;8;9;10;11;12;13;14;15;16;17;18;19;20;21;22;23;24;25;26;27;28;29;30;31;32;33;34;35;36;37;38;39;40;41;42;43;44;45;46;47;48;49;50;51;52;53;54;55;56;57;58;59;60;61;62;63;64;65;66;67;68;\\nPrecision@20: ;0.00012698412698412698;0.0;0.0;0.0;0.0;0.0;0.0;0.0;0.0;0.0;0.245109201575367;0.2618351886209029;0.28474747474747475;0.2072916666666667;0.23703703703703705;0.26095238095238094;0.19166666666666668;0.1987179487179487;0.16666666666666666;0.061294765840220394;0.029513888888888888;0.15422077922077923;0.046703296703296704;0.12012987012987013;0.21428571428571427;0.07222222222222222;0.0;0.06666666666666667;0.32857142857142857;0.11333333333333333;0.1181818181818182;0.025;0.0;0.016666666666666666;0.041666666666666664;0.09375;0.0;0.037037037037037035;0.0;0.0434173669467787;0.037037037037037035;0.047619047619047616;0.041666666666666664;0.025641025641025644;0.3703703703703704;0.0;0.020833333333333332;0.0;0.1111111111111111;0.018518518518518517;0.3333333333333333;0.16666666666666666;0.16666666666666666;0.0;0.0;0.0;0.0;0.0;0.0;0.0;0.0;0.0;0.0;0.0;0.0;1.0;0.0;0.0;0.16666666666666666;'),\n",
       " ('HitRate@20: ',\n",
       "  0.04589114194236926,\n",
       "  'Bin: ;\\nHitRate@20: ;',\n",
       "  'Pos: ;0;1;2;3;4;5;6;7;8;9;10;11;12;13;14;15;16;17;18;19;20;21;22;23;24;25;26;27;28;29;30;31;32;33;34;35;36;37;38;39;40;41;42;43;44;45;46;47;48;49;50;51;52;53;54;55;56;57;58;59;60;61;62;63;64;65;66;67;68;\\nHitRate@20: ;0.0008888888888888889;0.0;0.0;0.0;0.0;0.0;0.0;0.0;0.0;0.0;0.4857142857142857;0.5;0.56;0.4;0.3888888888888889;0.4666666666666667;0.4666666666666667;0.3076923076923077;0.16666666666666666;0.2727272727272727;0.25;0.375;0.2857142857142857;0.5714285714285714;0.4;0.4;0.0;0.2;0.6;0.4;0.4;0.2;0.0;0.25;0.25;0.5;0.0;0.3333333333333333;0.0;0.6666666666666666;0.3333333333333333;0.3333333333333333;0.3333333333333333;0.3333333333333333;0.6666666666666666;0.0;0.3333333333333333;0.0;0.3333333333333333;0.3333333333333333;0.3333333333333333;0.3333333333333333;0.3333333333333333;0.0;0.0;0.0;0.0;0.0;0.0;0.0;0.0;0.0;0.0;0.0;0.0;1.0;0.0;0.0;1.0;')]"
      ]
     },
     "execution_count": 15,
     "metadata": {},
     "output_type": "execute_result"
    }
   ],
   "source": [
    "metrics = [MRR(20),\n",
    "           HitRate(20)]\n",
    "\n",
    "evaluate_sessions(pr=model,\n",
    "                  metrics= metrics,\n",
    "                  test_data=test,\n",
    "                  train_data=train,\n",
    "                  cut_off=20)"
   ]
  },
  {
   "cell_type": "markdown",
   "metadata": {},
   "source": [
    "### 15 interactions"
   ]
  },
  {
   "cell_type": "code",
   "execution_count": 16,
   "metadata": {},
   "outputs": [
    {
     "name": "stdout",
     "output_type": "stream",
     "text": [
      "Initializing offline training agent\n",
      "Loading pretrained model from: trained agents/retailrocket/20240627_153459 - n_hist 15 state_size 15 action_size 466865.pth\n",
      "Pretrained model successfully loaded\n"
     ]
    }
   ],
   "source": [
    "model_1 = rl_recommender(\n",
    "    n_history=15,\n",
    "    file_path=r'trained agents/retailrocket/click=0, addtocart=8, purchase=10/20240627_153459 - n_hist 15 state_size 15 action_size 466865.pth',\n",
    "    state_size=15,\n",
    "    action_size=466865,\n",
    "    mode='predicting'\n",
    ")\n",
    "\n",
    "model_2 = VSKNN_STAN(k=500,\n",
    "                     sample_size=1000,\n",
    "                     similarity='cosine',\n",
    "                    #    stan:  \n",
    "                     lambda_spw=7.24,  \n",
    "                     lambda_snh=100,  \n",
    "                     lambda_inh=3.62,  \n",
    "                    #    vsknn:  \n",
    "                     lambda_ipw=3.62, \n",
    "                     lambda_idf=1\n",
    "                       )\n",
    "\n",
    "# Initialize the hybrid model\n",
    "model = StrategicHybrid(algorithms=[model_1, model_2],\n",
    "                        thresholds=[15]) # after 15 recommendations, the second algorithm is used\n",
    "# Fit the hybrid model\n",
    "model.fit(train)"
   ]
  },
  {
   "cell_type": "code",
   "execution_count": 17,
   "metadata": {},
   "outputs": [
    {
     "name": "stdout",
     "output_type": "stream",
     "text": [
      "START evaluation of  3936  actions in  1125  sessions\n",
      "    eval process:  0  of  3936  actions:  0.0  %\n",
      "    eval process:  1000  of  3936  actions:  25.406504065040654  %\n",
      "    eval process:  2000  of  3936  actions:  50.81300813008131  %\n",
      "    eval process:  3000  of  3936  actions:  76.21951219512195  %\n",
      "END evaluation\n"
     ]
    },
    {
     "data": {
      "text/plain": [
       "[('MRR@20: ',\n",
       "  0.009039712359914503,\n",
       "  'Bin: ;\\nPrecision@20: ;',\n",
       "  'Pos: ;0;1;2;3;4;5;6;7;8;9;10;11;12;13;14;15;16;17;18;19;20;21;22;23;24;25;26;27;28;29;30;31;32;33;34;35;36;37;38;39;40;41;42;43;44;45;46;47;48;49;50;51;52;53;54;55;56;57;58;59;60;61;62;63;64;65;66;67;68;\\nPrecision@20: ;0.0;0.0;0.0;0.0;0.0;0.0;0.0;0.0;0.0;0.0;0.0;0.0;0.0;0.0;0.0;0.26095238095238094;0.19166666666666668;0.1987179487179487;0.16666666666666666;0.061294765840220394;0.029513888888888888;0.15422077922077923;0.046703296703296704;0.12012987012987013;0.21428571428571427;0.07222222222222222;0.0;0.06666666666666667;0.32857142857142857;0.11333333333333333;0.1181818181818182;0.025;0.0;0.016666666666666666;0.041666666666666664;0.09375;0.0;0.037037037037037035;0.0;0.0434173669467787;0.037037037037037035;0.047619047619047616;0.041666666666666664;0.025641025641025644;0.3703703703703704;0.0;0.020833333333333332;0.0;0.1111111111111111;0.018518518518518517;0.3333333333333333;0.16666666666666666;0.16666666666666666;0.0;0.0;0.0;0.0;0.0;0.0;0.0;0.0;0.0;0.0;0.0;0.0;1.0;0.0;0.0;0.16666666666666666;'),\n",
       " ('HitRate@20: ',\n",
       "  0.024190679473496977,\n",
       "  'Bin: ;\\nHitRate@20: ;',\n",
       "  'Pos: ;0;1;2;3;4;5;6;7;8;9;10;11;12;13;14;15;16;17;18;19;20;21;22;23;24;25;26;27;28;29;30;31;32;33;34;35;36;37;38;39;40;41;42;43;44;45;46;47;48;49;50;51;52;53;54;55;56;57;58;59;60;61;62;63;64;65;66;67;68;\\nHitRate@20: ;0.0;0.0;0.0;0.0;0.0;0.0;0.0;0.0;0.0;0.0;0.0;0.0;0.0;0.0;0.0;0.4666666666666667;0.4666666666666667;0.3076923076923077;0.16666666666666666;0.2727272727272727;0.25;0.375;0.2857142857142857;0.5714285714285714;0.4;0.4;0.0;0.2;0.6;0.4;0.4;0.2;0.0;0.25;0.25;0.5;0.0;0.3333333333333333;0.0;0.6666666666666666;0.3333333333333333;0.3333333333333333;0.3333333333333333;0.3333333333333333;0.6666666666666666;0.0;0.3333333333333333;0.0;0.3333333333333333;0.3333333333333333;0.3333333333333333;0.3333333333333333;0.3333333333333333;0.0;0.0;0.0;0.0;0.0;0.0;0.0;0.0;0.0;0.0;0.0;0.0;1.0;0.0;0.0;1.0;')]"
      ]
     },
     "execution_count": 17,
     "metadata": {},
     "output_type": "execute_result"
    }
   ],
   "source": [
    "metrics = [MRR(20),\n",
    "           HitRate(20)]\n",
    "\n",
    "evaluate_sessions(pr=model,\n",
    "                  metrics= metrics,\n",
    "                  test_data=test,\n",
    "                  train_data=train,\n",
    "                  cut_off=20)"
   ]
  },
  {
   "cell_type": "markdown",
   "metadata": {},
   "source": [
    "### 100 interactions\n",
    "In other words, the model almost only uses the first model to predict next interactions with items."
   ]
  },
  {
   "cell_type": "code",
   "execution_count": 18,
   "metadata": {},
   "outputs": [
    {
     "name": "stdout",
     "output_type": "stream",
     "text": [
      "Initializing offline training agent\n",
      "Loading pretrained model from: trained agents/retailrocket/20240627_150111 - n_hist 100 state_size 100 action_size 466865.pth\n",
      "Pretrained model successfully loaded\n"
     ]
    }
   ],
   "source": [
    "model_1 = rl_recommender(\n",
    "    n_history=100,\n",
    "    file_path=r'trained agents/retailrocket/click=0, addtocart=8, purchase=10/20240627_150111 - n_hist 100 state_size 100 action_size 466865.pth',\n",
    "    state_size=100,\n",
    "    action_size=466865,\n",
    "    mode='predicting'\n",
    ")\n",
    "\n",
    "model_2 = VSKNN_STAN(k=500,\n",
    "                     sample_size=1000,\n",
    "                     similarity='cosine',\n",
    "                    #    stan:  \n",
    "                     lambda_spw=7.24,  \n",
    "                     lambda_snh=100,  \n",
    "                     lambda_inh=3.62,  \n",
    "                    #    vsknn:  \n",
    "                     lambda_ipw=3.62, \n",
    "                     lambda_idf=1\n",
    "                       )\n",
    "\n",
    "# Initialize the hybrid model\n",
    "model = StrategicHybrid(algorithms=[model_1, model_2],\n",
    "                        thresholds=[100]) # after 100 recommendations, the second algorithm is used\n",
    "# Fit the hybrid model\n",
    "model.fit(train)"
   ]
  },
  {
   "cell_type": "code",
   "execution_count": 19,
   "metadata": {},
   "outputs": [
    {
     "name": "stdout",
     "output_type": "stream",
     "text": [
      "START evaluation of  3936  actions in  1125  sessions\n",
      "    eval process:  0  of  3936  actions:  0.0  %\n",
      "    eval process:  1000  of  3936  actions:  25.406504065040654  %\n",
      "    eval process:  2000  of  3936  actions:  50.81300813008131  %\n",
      "    eval process:  3000  of  3936  actions:  76.21951219512195  %\n",
      "END evaluation\n"
     ]
    },
    {
     "data": {
      "text/plain": [
       "[('MRR@20: ',\n",
       "  0.0,\n",
       "  'Bin: ;\\nPrecision@20: ;',\n",
       "  'Pos: ;0;1;2;3;4;5;6;7;8;9;10;11;12;13;14;15;16;17;18;19;20;21;22;23;24;25;26;27;28;29;30;31;32;33;34;35;36;37;38;39;40;41;42;43;44;45;46;47;48;49;50;51;52;53;54;55;56;57;58;59;60;61;62;63;64;65;66;67;68;\\nPrecision@20: ;0.0;0.0;0.0;0.0;0.0;0.0;0.0;0.0;0.0;0.0;0.0;0.0;0.0;0.0;0.0;0.0;0.0;0.0;0.0;0.0;0.0;0.0;0.0;0.0;0.0;0.0;0.0;0.0;0.0;0.0;0.0;0.0;0.0;0.0;0.0;0.0;0.0;0.0;0.0;0.0;0.0;0.0;0.0;0.0;0.0;0.0;0.0;0.0;0.0;0.0;0.0;0.0;0.0;0.0;0.0;0.0;0.0;0.0;0.0;0.0;0.0;0.0;0.0;0.0;0.0;0.0;0.0;0.0;0.0;'),\n",
       " ('HitRate@20: ',\n",
       "  0.0,\n",
       "  'Bin: ;\\nHitRate@20: ;',\n",
       "  'Pos: ;0;1;2;3;4;5;6;7;8;9;10;11;12;13;14;15;16;17;18;19;20;21;22;23;24;25;26;27;28;29;30;31;32;33;34;35;36;37;38;39;40;41;42;43;44;45;46;47;48;49;50;51;52;53;54;55;56;57;58;59;60;61;62;63;64;65;66;67;68;\\nHitRate@20: ;0.0;0.0;0.0;0.0;0.0;0.0;0.0;0.0;0.0;0.0;0.0;0.0;0.0;0.0;0.0;0.0;0.0;0.0;0.0;0.0;0.0;0.0;0.0;0.0;0.0;0.0;0.0;0.0;0.0;0.0;0.0;0.0;0.0;0.0;0.0;0.0;0.0;0.0;0.0;0.0;0.0;0.0;0.0;0.0;0.0;0.0;0.0;0.0;0.0;0.0;0.0;0.0;0.0;0.0;0.0;0.0;0.0;0.0;0.0;0.0;0.0;0.0;0.0;0.0;0.0;0.0;0.0;0.0;0.0;')]"
      ]
     },
     "execution_count": 19,
     "metadata": {},
     "output_type": "execute_result"
    }
   ],
   "source": [
    "metrics = [MRR(20),\n",
    "           HitRate(20)]\n",
    "\n",
    "evaluate_sessions(pr=model,\n",
    "                  metrics= metrics,\n",
    "                  test_data=test,\n",
    "                  train_data=train,\n",
    "                  cut_off=20)"
   ]
  }
 ],
 "metadata": {
  "kernelspec": {
   "display_name": "master_thesis",
   "language": "python",
   "name": "python3"
  },
  "language_info": {
   "codemirror_mode": {
    "name": "ipython",
    "version": 3
   },
   "file_extension": ".py",
   "mimetype": "text/x-python",
   "name": "python",
   "nbconvert_exporter": "python",
   "pygments_lexer": "ipython3",
   "version": "3.9.19"
  }
 },
 "nbformat": 4,
 "nbformat_minor": 2
}
