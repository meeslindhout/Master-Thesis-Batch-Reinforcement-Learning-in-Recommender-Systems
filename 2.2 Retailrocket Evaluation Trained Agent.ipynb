{
 "cells": [
  {
   "cell_type": "code",
   "execution_count": 2,
   "metadata": {},
   "outputs": [],
   "source": [
    "import pandas as pd\n",
    "from src.recsys_baseline import VSKNN_STAN\n",
    "from src.recsys_rl import rl_recommender\n",
    "from src.evaluation import evaluate_sessions, MRR, HitRate, StrategicHybrid\n",
    "from src.utils import evaluation_results_to_csv"
   ]
  },
  {
   "cell_type": "markdown",
   "metadata": {},
   "source": [
    "## load datasets"
   ]
  },
  {
   "cell_type": "code",
   "execution_count": 3,
   "metadata": {},
   "outputs": [
    {
     "data": {
      "text/html": [
       "<div>\n",
       "<style scoped>\n",
       "    .dataframe tbody tr th:only-of-type {\n",
       "        vertical-align: middle;\n",
       "    }\n",
       "\n",
       "    .dataframe tbody tr th {\n",
       "        vertical-align: top;\n",
       "    }\n",
       "\n",
       "    .dataframe thead th {\n",
       "        text-align: right;\n",
       "    }\n",
       "</style>\n",
       "<table border=\"1\" class=\"dataframe\">\n",
       "  <thead>\n",
       "    <tr style=\"text-align: right;\">\n",
       "      <th></th>\n",
       "      <th>Time</th>\n",
       "      <th>UserId</th>\n",
       "      <th>Type</th>\n",
       "      <th>ItemId</th>\n",
       "      <th>SessionId</th>\n",
       "    </tr>\n",
       "  </thead>\n",
       "  <tbody>\n",
       "    <tr>\n",
       "      <th>0</th>\n",
       "      <td>1438969904</td>\n",
       "      <td>2</td>\n",
       "      <td>view</td>\n",
       "      <td>325215</td>\n",
       "      <td>3</td>\n",
       "    </tr>\n",
       "    <tr>\n",
       "      <th>1</th>\n",
       "      <td>1438970013</td>\n",
       "      <td>2</td>\n",
       "      <td>view</td>\n",
       "      <td>325215</td>\n",
       "      <td>3</td>\n",
       "    </tr>\n",
       "    <tr>\n",
       "      <th>2</th>\n",
       "      <td>1438970212</td>\n",
       "      <td>2</td>\n",
       "      <td>view</td>\n",
       "      <td>259884</td>\n",
       "      <td>3</td>\n",
       "    </tr>\n",
       "    <tr>\n",
       "      <th>3</th>\n",
       "      <td>1438970468</td>\n",
       "      <td>2</td>\n",
       "      <td>view</td>\n",
       "      <td>216305</td>\n",
       "      <td>3</td>\n",
       "    </tr>\n",
       "    <tr>\n",
       "      <th>4</th>\n",
       "      <td>1438970905</td>\n",
       "      <td>2</td>\n",
       "      <td>view</td>\n",
       "      <td>342816</td>\n",
       "      <td>3</td>\n",
       "    </tr>\n",
       "  </tbody>\n",
       "</table>\n",
       "</div>"
      ],
      "text/plain": [
       "         Time  UserId  Type  ItemId  SessionId\n",
       "0  1438969904       2  view  325215          3\n",
       "1  1438970013       2  view  325215          3\n",
       "2  1438970212       2  view  259884          3\n",
       "3  1438970468       2  view  216305          3\n",
       "4  1438970905       2  view  342816          3"
      ]
     },
     "metadata": {},
     "output_type": "display_data"
    },
    {
     "data": {
      "text/plain": [
       "(1079830, 5)"
      ]
     },
     "metadata": {},
     "output_type": "display_data"
    }
   ],
   "source": [
    "train_data = pd.read_csv(r'data\\processed datasets\\retailrocket\\events_train.csv',\n",
    "                    sep='\\t',)\n",
    "display(train_data.head())\n",
    "display(train_data.shape)"
   ]
  },
  {
   "cell_type": "code",
   "execution_count": 4,
   "metadata": {},
   "outputs": [
    {
     "data": {
      "text/html": [
       "<div>\n",
       "<style scoped>\n",
       "    .dataframe tbody tr th:only-of-type {\n",
       "        vertical-align: middle;\n",
       "    }\n",
       "\n",
       "    .dataframe tbody tr th {\n",
       "        vertical-align: top;\n",
       "    }\n",
       "\n",
       "    .dataframe thead th {\n",
       "        text-align: right;\n",
       "    }\n",
       "</style>\n",
       "<table border=\"1\" class=\"dataframe\">\n",
       "  <thead>\n",
       "    <tr style=\"text-align: right;\">\n",
       "      <th></th>\n",
       "      <th>Time</th>\n",
       "      <th>UserId</th>\n",
       "      <th>Type</th>\n",
       "      <th>ItemId</th>\n",
       "      <th>SessionId</th>\n",
       "    </tr>\n",
       "  </thead>\n",
       "  <tbody>\n",
       "    <tr>\n",
       "      <th>0</th>\n",
       "      <td>1442004589</td>\n",
       "      <td>0</td>\n",
       "      <td>view</td>\n",
       "      <td>285930</td>\n",
       "      <td>1</td>\n",
       "    </tr>\n",
       "    <tr>\n",
       "      <th>1</th>\n",
       "      <td>1442004759</td>\n",
       "      <td>0</td>\n",
       "      <td>view</td>\n",
       "      <td>357564</td>\n",
       "      <td>1</td>\n",
       "    </tr>\n",
       "    <tr>\n",
       "      <th>2</th>\n",
       "      <td>1442004917</td>\n",
       "      <td>0</td>\n",
       "      <td>view</td>\n",
       "      <td>67045</td>\n",
       "      <td>1</td>\n",
       "    </tr>\n",
       "    <tr>\n",
       "      <th>3</th>\n",
       "      <td>1442338531</td>\n",
       "      <td>54</td>\n",
       "      <td>view</td>\n",
       "      <td>388096</td>\n",
       "      <td>66</td>\n",
       "    </tr>\n",
       "    <tr>\n",
       "      <th>4</th>\n",
       "      <td>1442338665</td>\n",
       "      <td>54</td>\n",
       "      <td>view</td>\n",
       "      <td>283115</td>\n",
       "      <td>66</td>\n",
       "    </tr>\n",
       "  </tbody>\n",
       "</table>\n",
       "</div>"
      ],
      "text/plain": [
       "         Time  UserId  Type  ItemId  SessionId\n",
       "0  1442004589       0  view  285930          1\n",
       "1  1442004759       0  view  357564          1\n",
       "2  1442004917       0  view   67045          1\n",
       "3  1442338531      54  view  388096         66\n",
       "4  1442338665      54  view  283115         66"
      ]
     },
     "metadata": {},
     "output_type": "display_data"
    },
    {
     "data": {
      "text/plain": [
       "(40771, 5)"
      ]
     },
     "metadata": {},
     "output_type": "display_data"
    }
   ],
   "source": [
    "test_data = pd.read_csv(r'data\\processed datasets\\retailrocket\\events_test.csv',\n",
    "                    sep='\\t',)\n",
    "\n",
    "display(test_data.head())\n",
    "display(test_data.shape)\n"
   ]
  },
  {
   "cell_type": "markdown",
   "metadata": {},
   "source": [
    "## Hybrid model (reward: click=3, addtocart=8, purchase=10)"
   ]
  },
  {
   "cell_type": "markdown",
   "metadata": {},
   "source": [
    "### 5 interactions"
   ]
  },
  {
   "cell_type": "code",
   "execution_count": 4,
   "metadata": {},
   "outputs": [
    {
     "name": "stdout",
     "output_type": "stream",
     "text": [
      "Initializing offline training agent\n"
     ]
    },
    {
     "name": "stderr",
     "output_type": "stream",
     "text": [
      "/home/mees/anaconda3/envs/master_thesis/lib/python3.9/site-packages/torch/cuda/__init__.py:118: UserWarning: CUDA initialization: The NVIDIA driver on your system is too old (found version 11040). Please update your GPU driver by downloading and installing a new version from the URL: http://www.nvidia.com/Download/index.aspx Alternatively, go to: https://pytorch.org to install a PyTorch version that has been compiled with your version of the CUDA driver. (Triggered internally at ../c10/cuda/CUDAFunctions.cpp:108.)\n",
      "  return torch._C._cuda_getDeviceCount() > 0\n"
     ]
    },
    {
     "name": "stdout",
     "output_type": "stream",
     "text": [
      "Loading pretrained model from: trained agents/retailrocket/20240627_135343 - n_hist 5 state_size 5 action_size 466865.pth\n",
      "Pretrained model successfully loaded\n"
     ]
    }
   ],
   "source": [
    "model_1 = rl_recommender(\n",
    "    n_history=5,\n",
    "    file_path=r'trained agents/retailrocket/20240704_083204 - n_hist 5 state_size 5 action_size 466865.pth',\n",
    "    state_size=5,\n",
    "    action_size=466865,\n",
    "    mode='predicting'\n",
    ")\n",
    "\n",
    "model_2 = VSKNN_STAN(k=500,\n",
    "                     sample_size=1000,\n",
    "                     similarity='cosine',\n",
    "                    #    stan:  \n",
    "                     lambda_spw=7.24,  \n",
    "                     lambda_snh=100,  \n",
    "                     lambda_inh=3.62,  \n",
    "                    #    vsknn:  \n",
    "                     lambda_ipw=3.62, \n",
    "                     lambda_idf=1\n",
    "                       )\n",
    "\n",
    "# Initialize the hybrid model\n",
    "model = StrategicHybrid(algorithms=[model_1, model_2],\n",
    "                        thresholds=[5]) # after 5 recommendations, the second algorithm is used\n",
    "# Fit the hybrid model\n",
    "model.fit(train_data)\n",
    "\n",
    "metrics = [\n",
    "    MRR(2),\n",
    "    MRR(3),\n",
    "    MRR(4),\n",
    "    MRR(5),\n",
    "    MRR(10),\n",
    "    MRR(15),\n",
    "    MRR(20),\n",
    "    HitRate(1),\n",
    "    HitRate(2),\n",
    "    HitRate(3),\n",
    "    HitRate(4),\n",
    "    HitRate(5)]\n",
    "\n",
    "output = evaluate_sessions(pr=model,\n",
    "                  metrics= metrics,\n",
    "                  test_data=test_data,\n",
    "                  train_data=train_data,\n",
    "                  cut_off=20)\n",
    "\n",
    "evaluation_results_to_csv(output=output, dataset_name='Retailrocket', algo_name='RL Agent n=5', reward_func='click=3, addtocart=8, purchase=10')"
   ]
  },
  {
   "cell_type": "markdown",
   "metadata": {},
   "source": [
    "### 10 interactions"
   ]
  },
  {
   "cell_type": "code",
   "execution_count": 6,
   "metadata": {},
   "outputs": [
    {
     "name": "stdout",
     "output_type": "stream",
     "text": [
      "Initializing offline training agent\n",
      "Loading pretrained model from: trained agents/retailrocket/20240627_141013 - n_hist 10 state_size 10 action_size 466865.pth\n",
      "Pretrained model successfully loaded\n"
     ]
    }
   ],
   "source": [
    "model_1 = rl_recommender(\n",
    "    n_history=10,\n",
    "    file_path=r'trained agents/retailrocket/20240704_084626 - n_hist 10 state_size 10 action_size 466865.pth',\n",
    "    state_size=10,\n",
    "    action_size=466865,\n",
    "    mode='predicting'\n",
    ")\n",
    "\n",
    "model_2 = VSKNN_STAN(k=500,\n",
    "                     sample_size=1000,\n",
    "                     similarity='cosine',\n",
    "                    #    stan:  \n",
    "                     lambda_spw=7.24,  \n",
    "                     lambda_snh=100,  \n",
    "                     lambda_inh=3.62,  \n",
    "                    #    vsknn:  \n",
    "                     lambda_ipw=3.62, \n",
    "                     lambda_idf=1\n",
    "                       )\n",
    "\n",
    "# Initialize the hybrid model\n",
    "model = StrategicHybrid(algorithms=[model_1, model_2],\n",
    "                        thresholds=[10]) # after 10 recommendations, the second algorithm is used\n",
    "# Fit the hybrid model\n",
    "model.fit(train_data)\n",
    "\n",
    "metrics = [\n",
    "    MRR(2),\n",
    "    MRR(3),\n",
    "    MRR(4),\n",
    "    MRR(5),\n",
    "    MRR(10),\n",
    "    MRR(15),\n",
    "    MRR(20),\n",
    "    HitRate(1),\n",
    "    HitRate(2),\n",
    "    HitRate(3),\n",
    "    HitRate(4),\n",
    "    HitRate(5)]\n",
    "\n",
    "output = evaluate_sessions(pr=model,\n",
    "                  metrics= metrics,\n",
    "                  test_data=test_data,\n",
    "                  train_data=train_data,\n",
    "                  cut_off=20)\n",
    "\n",
    "evaluation_results_to_csv(output=output, dataset_name='Retailrocket', algo_name='RL Agent n=10', reward_func='click=3, addtocart=8, purchase=10')"
   ]
  },
  {
   "cell_type": "markdown",
   "metadata": {},
   "source": [
    "### 15 interactions"
   ]
  },
  {
   "cell_type": "code",
   "execution_count": 8,
   "metadata": {},
   "outputs": [
    {
     "name": "stdout",
     "output_type": "stream",
     "text": [
      "Initializing offline training agent\n",
      "Loading pretrained model from: trained agents/retailrocket/20240627_142646 - n_hist 15 state_size 15 action_size 466865.pth\n",
      "Pretrained model successfully loaded\n"
     ]
    }
   ],
   "source": [
    "model_1 = rl_recommender(\n",
    "    n_history=15,\n",
    "    file_path=r'trained agents/retailrocket/20240704_083204 - n_hist 5 state_size 5 action_size 466865.pth',\n",
    "    state_size=15,\n",
    "    action_size=466865,\n",
    "    mode='predicting'\n",
    ")\n",
    "\n",
    "model_2 = VSKNN_STAN(k=500,\n",
    "                     sample_size=1000,\n",
    "                     similarity='cosine',\n",
    "                    #    stan:  \n",
    "                     lambda_spw=7.24,  \n",
    "                     lambda_snh=100,  \n",
    "                     lambda_inh=3.62,  \n",
    "                    #    vsknn:  \n",
    "                     lambda_ipw=3.62, \n",
    "                     lambda_idf=1\n",
    "                       )\n",
    "\n",
    "# Initialize the hybrid model\n",
    "model = StrategicHybrid(algorithms=[model_1, model_2],\n",
    "                        thresholds=[15]) # after 10 recommendations, the second algorithm is used\n",
    "# Fit the hybrid model\n",
    "model.fit(train_data)\n",
    "\n",
    "metrics = [\n",
    "    MRR(2),\n",
    "    MRR(3),\n",
    "    MRR(4),\n",
    "    MRR(5),\n",
    "    MRR(10),\n",
    "    MRR(15),\n",
    "    MRR(20),\n",
    "    HitRate(1),\n",
    "    HitRate(2),\n",
    "    HitRate(3),\n",
    "    HitRate(4),\n",
    "    HitRate(5)]\n",
    "\n",
    "output = evaluate_sessions(pr=model,\n",
    "                  metrics= metrics,\n",
    "                  test_data=test_data,\n",
    "                  train_data=train_data,\n",
    "                  cut_off=20)\n",
    "\n",
    "evaluation_results_to_csv(output=output, dataset_name='Retailrocket', algo_name='RL Agent n=15', reward_func='click=3, addtocart=8, purchase=10')"
   ]
  },
  {
   "cell_type": "markdown",
   "metadata": {},
   "source": [
    "### 100 interactions\n",
    "In other words, the model almost only uses the first model to predict next interactions with items."
   ]
  },
  {
   "cell_type": "code",
   "execution_count": 10,
   "metadata": {},
   "outputs": [
    {
     "name": "stdout",
     "output_type": "stream",
     "text": [
      "Initializing offline training agent\n",
      "Loading pretrained model from: trained agents/retailrocket/20240627_144343 - n_hist 100 state_size 100 action_size 466865.pth\n",
      "Pretrained model successfully loaded\n"
     ]
    }
   ],
   "source": [
    "model_1 = rl_recommender(\n",
    "    n_history=100,\n",
    "    file_path=r'trained agents/retailrocket/20240704_083204 - n_hist 5 state_size 5 action_size 466865.pth',\n",
    "    state_size=100,\n",
    "    action_size=466865,\n",
    "    mode='predicting'\n",
    ")\n",
    "\n",
    "model_2 = VSKNN_STAN(k=500,\n",
    "                     sample_size=1000,\n",
    "                     similarity='cosine',\n",
    "                    #    stan:  \n",
    "                     lambda_spw=7.24,  \n",
    "                     lambda_snh=100,  \n",
    "                     lambda_inh=3.62,  \n",
    "                    #    vsknn:  \n",
    "                     lambda_ipw=3.62, \n",
    "                     lambda_idf=1\n",
    "                       )\n",
    "\n",
    "# Initialize the hybrid model\n",
    "model = StrategicHybrid(algorithms=[model_1, model_2],\n",
    "                        thresholds=[100]) # after 100 recommendations, the second algorithm is used\n",
    "# Fit the hybrid model\n",
    "model.fit(train_data)\n",
    "\n",
    "metrics = [\n",
    "    MRR(2),\n",
    "    MRR(3),\n",
    "    MRR(4),\n",
    "    MRR(5),\n",
    "    MRR(10),\n",
    "    MRR(15),\n",
    "    MRR(20),\n",
    "    HitRate(1),\n",
    "    HitRate(2),\n",
    "    HitRate(3),\n",
    "    HitRate(4),\n",
    "    HitRate(5)]\n",
    "\n",
    "output = evaluate_sessions(pr=model,\n",
    "                  metrics= metrics,\n",
    "                  test_data=test_data,\n",
    "                  train_data=train_data,\n",
    "                  cut_off=20)\n",
    "\n",
    "evaluation_results_to_csv(output=output, dataset_name='Retailrocket', algo_name='RL Agent n=100', reward_func='click=3, addtocart=8, purchase=10')"
   ]
  },
  {
   "cell_type": "markdown",
   "metadata": {},
   "source": [
    "## Hybrid model (reward: click=0, addtocart=8, purchase=10)"
   ]
  },
  {
   "cell_type": "markdown",
   "metadata": {},
   "source": [
    "### 5 interactions"
   ]
  },
  {
   "cell_type": "code",
   "execution_count": 13,
   "metadata": {},
   "outputs": [
    {
     "name": "stdout",
     "output_type": "stream",
     "text": [
      "Initializing offline training agent\n",
      "Loading pretrained model from: trained agents/retailrocket/20240627_151814 - n_hist 5 state_size 5 action_size 466865.pth\n",
      "Pretrained model successfully loaded\n"
     ]
    }
   ],
   "source": [
    "model_1 = rl_recommender(\n",
    "    n_history=5,\n",
    "    file_path=r'',\n",
    "    state_size=5,\n",
    "    action_size=466865,\n",
    "    mode='predicting'\n",
    ")\n",
    "\n",
    "model_2 = VSKNN_STAN(k=500,\n",
    "                     sample_size=1000,\n",
    "                     similarity='cosine',\n",
    "                    #    stan:  \n",
    "                     lambda_spw=7.24,  \n",
    "                     lambda_snh=100,  \n",
    "                     lambda_inh=3.62,  \n",
    "                    #    vsknn:  \n",
    "                     lambda_ipw=3.62, \n",
    "                     lambda_idf=1\n",
    "                       )\n",
    "\n",
    "# Initialize the hybrid model\n",
    "model = StrategicHybrid(algorithms=[model_1, model_2],\n",
    "                        thresholds=[5]) # after 5 recommendations, the second algorithm is used\n",
    "# Fit the hybrid model\n",
    "model.fit(train_data)\n",
    "\n",
    "metrics = [\n",
    "    MRR(2),\n",
    "    MRR(3),\n",
    "    MRR(4),\n",
    "    MRR(5),\n",
    "    MRR(10),\n",
    "    MRR(15),\n",
    "    MRR(20),\n",
    "    HitRate(1),\n",
    "    HitRate(2),\n",
    "    HitRate(3),\n",
    "    HitRate(4),\n",
    "    HitRate(5)]\n",
    "\n",
    "output = evaluate_sessions(pr=model,\n",
    "                  metrics= metrics,\n",
    "                  test_data=test_data,\n",
    "                  train_data=train_data,\n",
    "                  cut_off=20)\n",
    "\n",
    "evaluation_results_to_csv(output=output, dataset_name='Retailrocket', algo_name='RL Agent n=5', reward_func='click=0, addtocart=8, purchase=10')"
   ]
  },
  {
   "cell_type": "markdown",
   "metadata": {},
   "source": [
    "### 10 interactions"
   ]
  },
  {
   "cell_type": "code",
   "execution_count": 14,
   "metadata": {},
   "outputs": [
    {
     "name": "stdout",
     "output_type": "stream",
     "text": [
      "Initializing offline training agent\n",
      "Loading pretrained model from: trained agents/retailrocket/20240627_155644 - n_hist 10 state_size 10 action_size 466865.pth\n",
      "Pretrained model successfully loaded\n"
     ]
    }
   ],
   "source": [
    "model_1 = rl_recommender(\n",
    "    n_history=10,\n",
    "    file_path=r'',\n",
    "    state_size=10,\n",
    "    action_size=466865,\n",
    "    mode='predicting'\n",
    ")\n",
    "\n",
    "model_2 = VSKNN_STAN(k=500,\n",
    "                     sample_size=1000,\n",
    "                     similarity='cosine',\n",
    "                    #    stan:  \n",
    "                     lambda_spw=7.24,  \n",
    "                     lambda_snh=100,  \n",
    "                     lambda_inh=3.62,  \n",
    "                    #    vsknn:  \n",
    "                     lambda_ipw=3.62, \n",
    "                     lambda_idf=1\n",
    "                       )\n",
    "\n",
    "# Initialize the hybrid model\n",
    "model = StrategicHybrid(algorithms=[model_1, model_2],\n",
    "                        thresholds=[10]) # after 10 recommendations, the second algorithm is used\n",
    "# Fit the hybrid model\n",
    "model.fit(train_data)\n",
    "\n",
    "metrics = [\n",
    "    MRR(2),\n",
    "    MRR(3),\n",
    "    MRR(4),\n",
    "    MRR(5),\n",
    "    MRR(10),\n",
    "    MRR(15),\n",
    "    MRR(20),\n",
    "    HitRate(1),\n",
    "    HitRate(2),\n",
    "    HitRate(3),\n",
    "    HitRate(4),\n",
    "    HitRate(5)]\n",
    "\n",
    "output = evaluate_sessions(pr=model,\n",
    "                  metrics= metrics,\n",
    "                  test_data=test_data,\n",
    "                  train_data=train_data,\n",
    "                  cut_off=20)\n",
    "\n",
    "evaluation_results_to_csv(output=output, dataset_name='Retailrocket', algo_name='RL Agent n=10', reward_func='click=0, addtocart=8, purchase=10')"
   ]
  },
  {
   "cell_type": "markdown",
   "metadata": {},
   "source": [
    "### 15 interactions"
   ]
  },
  {
   "cell_type": "code",
   "execution_count": 16,
   "metadata": {},
   "outputs": [
    {
     "name": "stdout",
     "output_type": "stream",
     "text": [
      "Initializing offline training agent\n",
      "Loading pretrained model from: trained agents/retailrocket/20240627_153459 - n_hist 15 state_size 15 action_size 466865.pth\n",
      "Pretrained model successfully loaded\n"
     ]
    }
   ],
   "source": [
    "model_1 = rl_recommender(\n",
    "    n_history=15,\n",
    "    file_path=r'',\n",
    "    state_size=15,\n",
    "    action_size=466865,\n",
    "    mode='predicting'\n",
    ")\n",
    "\n",
    "model_2 = VSKNN_STAN(k=500,\n",
    "                     sample_size=1000,\n",
    "                     similarity='cosine',\n",
    "                    #    stan:  \n",
    "                     lambda_spw=7.24,  \n",
    "                     lambda_snh=100,  \n",
    "                     lambda_inh=3.62,  \n",
    "                    #    vsknn:  \n",
    "                     lambda_ipw=3.62, \n",
    "                     lambda_idf=1\n",
    "                       )\n",
    "\n",
    "# Initialize the hybrid model\n",
    "model = StrategicHybrid(algorithms=[model_1, model_2],\n",
    "                        thresholds=[15]) # after 15 recommendations, the second algorithm is used\n",
    "# Fit the hybrid model\n",
    "model.fit(train_data)\n",
    "\n",
    "metrics = [\n",
    "    MRR(2),\n",
    "    MRR(3),\n",
    "    MRR(4),\n",
    "    MRR(5),\n",
    "    MRR(10),\n",
    "    MRR(15),\n",
    "    MRR(20),\n",
    "    HitRate(1),\n",
    "    HitRate(2),\n",
    "    HitRate(3),\n",
    "    HitRate(4),\n",
    "    HitRate(5)]\n",
    "\n",
    "output = evaluate_sessions(pr=model,\n",
    "                  metrics= metrics,\n",
    "                  test_data=test_data,\n",
    "                  train_data=train_data,\n",
    "                  cut_off=20)\n",
    "\n",
    "evaluation_results_to_csv(output=output, dataset_name='Retailrocket', algo_name='RL Agent n=15', reward_func='click=0, addtocart=8, purchase=10')"
   ]
  },
  {
   "cell_type": "markdown",
   "metadata": {},
   "source": [
    "### 100 interactions\n",
    "In other words, the model almost only uses the first model to predict next interactions with items."
   ]
  },
  {
   "cell_type": "code",
   "execution_count": 18,
   "metadata": {},
   "outputs": [
    {
     "name": "stdout",
     "output_type": "stream",
     "text": [
      "Initializing offline training agent\n",
      "Loading pretrained model from: trained agents/retailrocket/20240627_150111 - n_hist 100 state_size 100 action_size 466865.pth\n",
      "Pretrained model successfully loaded\n"
     ]
    }
   ],
   "source": [
    "model_1 = rl_recommender(\n",
    "    n_history=100,\n",
    "    file_path=r'',\n",
    "    state_size=100,\n",
    "    action_size=466865,\n",
    "    mode='predicting'\n",
    ")\n",
    "\n",
    "model_2 = VSKNN_STAN(k=500,\n",
    "                     sample_size=1000,\n",
    "                     similarity='cosine',\n",
    "                    #    stan:  \n",
    "                     lambda_spw=7.24,  \n",
    "                     lambda_snh=100,  \n",
    "                     lambda_inh=3.62,  \n",
    "                    #    vsknn:  \n",
    "                     lambda_ipw=3.62, \n",
    "                     lambda_idf=1\n",
    "                       )\n",
    "\n",
    "# Initialize the hybrid model\n",
    "model = StrategicHybrid(algorithms=[model_1, model_2],\n",
    "                        thresholds=[100]) # after 15 recommendations, the second algorithm is used\n",
    "# Fit the hybrid model\n",
    "model.fit(train_data)\n",
    "\n",
    "metrics = [\n",
    "    MRR(2),\n",
    "    MRR(3),\n",
    "    MRR(4),\n",
    "    MRR(5),\n",
    "    MRR(10),\n",
    "    MRR(15),\n",
    "    MRR(20),\n",
    "    HitRate(1),\n",
    "    HitRate(2),\n",
    "    HitRate(3),\n",
    "    HitRate(4),\n",
    "    HitRate(5)]\n",
    "\n",
    "output = evaluate_sessions(pr=model,\n",
    "                  metrics= metrics,\n",
    "                  test_data=test_data,\n",
    "                  train_data=train_data,\n",
    "                  cut_off=20)\n",
    "\n",
    "evaluation_results_to_csv(output=output, dataset_name='Retailrocket', algo_name='RL Agent n=100', reward_func='click=0, addtocart=8, purchase=10')"
   ]
  }
 ],
 "metadata": {
  "kernelspec": {
   "display_name": "master_thesis",
   "language": "python",
   "name": "python3"
  },
  "language_info": {
   "codemirror_mode": {
    "name": "ipython",
    "version": 3
   },
   "file_extension": ".py",
   "mimetype": "text/x-python",
   "name": "python",
   "nbconvert_exporter": "python",
   "pygments_lexer": "ipython3",
   "version": "3.9.19"
  }
 },
 "nbformat": 4,
 "nbformat_minor": 2
}
